{
 "cells": [
  {
   "cell_type": "code",
   "execution_count": 5,
   "metadata": {
    "collapsed": true
   },
   "outputs": [],
   "source": [
    "import numpy as np\n",
    "import pandas as pd\n",
    "import scipy.stats as sps\n",
    "import matplotlib.pyplot as plt\n",
    "import seaborn as sns\n",
    "from tqdm import tqdm\n",
    "import re\n",
    "from statsmodels.sandbox.stats.multicomp import multipletests\n",
    "\n",
    "%matplotlib inline"
   ]
  },
  {
   "cell_type": "markdown",
   "metadata": {},
   "source": [
    "## Задача 1"
   ]
  },
  {
   "cell_type": "markdown",
   "metadata": {},
   "source": [
    "$R_{ij}$ - ранг $X_{ij}$ в $(X_{i1}, ..., X_{ik})$ <br>\n",
    "$L = \\sum_{j=1}^k \\sum_{i=1}^n R_{ij}$ - статистика Пейджа <br>\n",
    "$\\overline \\rho_s = \\frac{1}{n} \\sum_{i=1}^n \\rho_s$, где $\\rho_s$ - коэффициент корреляции Спирмена для выборок $R_{ij}$ и $(1, 2,...,k)$ <br>\n",
    "\n",
    "<br>\n",
    "Распишем : <br>\n",
    "$$\\overline \\rho_s = \\frac{1}{n} \\sum_{i=1}^n \\rho_s = \\frac{1}{n} \\sum_{i=1}^n (1 - \\frac{6}{k^3 - k}\\sum_{j=1}^k (R_{ij} - j)^2) = $$\n",
    "$$1 - \\frac{6}{n(k^3 - k)} \\sum_{i=1}^n \\sum_{j=1}^k {R_{ij}}^2 - 2jR_{ij} + j^2 = 1 -  \\frac{6}{n(k^3 - k)} \\sum_{i=1}^n \\sum_{j=1}^k ({R_{ij}}^2 + j^2) + \\frac{6}{n(k^3 - k)} \\sum_{i=1}^n \\sum_{j=1}^k 2jR_{ij}$$\n",
    "Теперь заметим, что множества $R_{ij}$ и (1, ..., k) совпадают, поэтому и $R_{ij}^2$ и $(1, ..., k^2)$ совпадают. Отсюда получим, что $\\sum_{j=1}^k {R_{ij}}^2 = \\sum_{j=1}^k j^2$ <br>\n",
    "То есть <br>\n",
    "$$\\overline \\rho_s = 1 - \\frac{6}{n(k^3 - k)} \\sum_{i=1}^n \\sum_{j=1}^k 2j^2 + \\frac{6}{n(k^3 - k)} \\sum_{i=1}^n \\sum_{j=1}^k 2jR_{ij} = 1 + \\frac{12}{nk(k^2 - 1)} \\sum_{j=1}^k jR_{ij} - \\frac{6}{k(k^2 - 1)}\\frac{k(k+1)(2k+1)}{3}  = 1 + \\frac{12 L}{nk(k^2 - 1)} - \\frac{2(2k+1)}{k-1} = \\frac{12 L}{nk(k^2 - 1)} - \\frac{3(k+1)}{k-1}$$"
   ]
  },
  {
   "cell_type": "markdown",
   "metadata": {},
   "source": [
    "## Задача 2"
   ]
  },
  {
   "cell_type": "markdown",
   "metadata": {},
   "source": [
    "Мы имеем модель $X_{ij} = \\mu + \\alpha_i + \\beta_j + \\epsilon_{ij}$ <br>\n",
    "\n",
    "\n",
    "Предлагается следующий алгоритм: <br>\n",
    "Сначала из каждого элемента вычтем общее среднее, тем самым мы уберем $\\mu$ <br>\n",
    "Потом для каждой строки вычтем стреднее по этой строке. То есть из каждого элемента $X_{ij}$ вычтем $\\overline X_i$. Тем самым мы уберем влияния i-ого объекта, то есть $\\alpha_i$ <br>\n",
    "После из каждого столбца вычтем среднее по этому столбцу.  То есть из каждого элемента $X_{ij}$ вычтем $\\overline X_j$. Тем самым мы уберем влияния j-ого фактора, то есть $\\beta_i$ <br>\n",
    "После этого остануться только погрешности и искомые нами ошибки $\\epsilon_{ij}$ <br>\n",
    "Полученные значения проверим на нормальность обычным способом, например, применим критерий Шапиро-Уилка."
   ]
  },
  {
   "cell_type": "markdown",
   "metadata": {},
   "source": [
    "## Задача 3"
   ]
  },
  {
   "cell_type": "markdown",
   "metadata": {},
   "source": [
    "Считываем данные"
   ]
  },
  {
   "cell_type": "code",
   "execution_count": 272,
   "metadata": {
    "collapsed": true
   },
   "outputs": [],
   "source": [
    "data = []\n",
    "with open('hw7t3.txt', 'r') as file:\n",
    "    raw_data = file.read().split('\\n')\n",
    "    for line in raw_data:\n",
    "        line = line.split(\"'\")\n",
    "        l = [line[1], line[3], int(re.findall(\"\\d+\" , line[4].strip(','))[0])]\n",
    "        data.append(l)\n",
    "\n",
    "data = np.array(data)"
   ]
  },
  {
   "cell_type": "markdown",
   "metadata": {},
   "source": [
    "Посмотрим какие бывают лекарста"
   ]
  },
  {
   "cell_type": "code",
   "execution_count": 273,
   "metadata": {},
   "outputs": [
    {
     "data": {
      "text/plain": [
       "array(['Analgine', 'Codeine', 'Iodomarine', 'Irunine', 'Mildronate',\n",
       "       'Permetrine'], dtype='<U13')"
      ]
     },
     "execution_count": 273,
     "metadata": {},
     "output_type": "execute_result"
    }
   ],
   "source": [
    "np.unique(data[:,1])"
   ]
  },
  {
   "cell_type": "markdown",
   "metadata": {},
   "source": [
    "Разобъем эксперименты по лекарствам"
   ]
  },
  {
   "cell_type": "code",
   "execution_count": 274,
   "metadata": {
    "collapsed": true
   },
   "outputs": [],
   "source": [
    "X1 = data[:,[0,2]][data[:,1] == 'Analgine']\n",
    "X2 = data[:,[0,2]][data[:,1] == 'Codeine']\n",
    "X3 = data[:,[0,2]][data[:,1] == 'Iodomarine']\n",
    "X4 = data[:,[0,2]][data[:,1] == 'Irunine']\n",
    "X5 = data[:,[0,2]][data[:,1] == 'Mildronate']\n",
    "X6 = data[:,[0,2]][data[:,1] == 'Permetrine']"
   ]
  },
  {
   "cell_type": "markdown",
   "metadata": {},
   "source": [
    "Заметим, что мы имеем дело с зависимыми выборками, так как в экспериментах принимают участие одни и те же люди и при этом мы ничего не знаем про распределение случайной ошибки. Но также можно заметить, что выборки по лекарствам и людям имеют разный размер, а таких критериев мы не проходили. Поэтому будем рассматривать Mr. Fattakhov и Gospodin Tsay отдельно"
   ]
  },
  {
   "cell_type": "code",
   "execution_count": 275,
   "metadata": {
    "collapsed": true
   },
   "outputs": [],
   "source": [
    "X11 = list(map(int, X1[X1[:,0] == 'Mr. Fattakhov'][:,1]))\n",
    "X12 = list(map(int, X1[X1[:,0] == 'Gospodin Tsay'][:,1]))\n",
    "X21 = list(map(int, X2[X2[:,0] == 'Mr. Fattakhov'][:,1]))\n",
    "X22 = list(map(int, X2[X2[:,0] == 'Gospodin Tsay'][:,1]))\n",
    "X31 = list(map(int, X3[X3[:,0] == 'Mr. Fattakhov'][:,1]))\n",
    "X32 = list(map(int, X3[X3[:,0] == 'Gospodin Tsay'][:,1]))\n",
    "X41 = list(map(int, X4[X4[:,0] == 'Mr. Fattakhov'][:,1]))\n",
    "X42 = list(map(int, X4[X4[:,0] == 'Gospodin Tsay'][:,1]))\n",
    "X51 = list(map(int, X5[X5[:,0] == 'Mr. Fattakhov'][:,1]))\n",
    "X52 = list(map(int, X5[X5[:,0] == 'Gospodin Tsay'][:,1]))\n",
    "X61 = list(map(int, X6[X6[:,0] == 'Mr. Fattakhov'][:,1]))\n",
    "X62 = list(map(int, X6[X6[:,0] == 'Gospodin Tsay'][:,1]))"
   ]
  },
  {
   "cell_type": "code",
   "execution_count": 281,
   "metadata": {},
   "outputs": [
    {
     "data": {
      "text/plain": [
       "([28, 35, 31, 29, 38, 23, 20, 39, 19, 30, 9, 27, 23, 17, 11, 15],\n",
       " [13, 16, 10, 15, 16, 13, 14, 14, 10, 15, 21, 12, 12, 13, 22],\n",
       " [19, 20, 16, 6, 15, 28, 24, 16, 20, 18, 12, 14, 32],\n",
       " [18, 20, 19, 29, 27, 13, 21, 16, 11, 17],\n",
       " [0, 28, 24, 32, 30, 28, 26, 14, 21, 28, 41, 29],\n",
       " [18, 26, 23, 19, 9, 23, 25, 23, 35, 30, 5, 26, 37, 29])"
      ]
     },
     "execution_count": 281,
     "metadata": {},
     "output_type": "execute_result"
    }
   ],
   "source": [
    "X11, X21, X31, X41, X51, X61"
   ]
  },
  {
   "cell_type": "markdown",
   "metadata": {},
   "source": [
    "**Для мистера Фаттахова**"
   ]
  },
  {
   "cell_type": "markdown",
   "metadata": {},
   "source": [
    "Сначала посмотрим на boxplot"
   ]
  },
  {
   "cell_type": "code",
   "execution_count": 276,
   "metadata": {},
   "outputs": [
    {
     "data": {
      "image/png": "[encoded data removed]",
      "text/plain": [
       "<Figure size 576x504 with 1 Axes>"
      ]
     },
     "metadata": {},
     "output_type": "display_data"
    }
   ],
   "source": [
    "plt.figure(figsize=(8, 7))\n",
    "sns.boxplot(data=[X11, X21, X31, X41, X51, X61])\n",
    "plt.xlabel('Drugs')\n",
    "plt.ylabel('Time')\n",
    "plt.show()"
   ]
  },
  {
   "cell_type": "markdown",
   "metadata": {},
   "source": [
    "Визуально действие лекарств различается"
   ]
  },
  {
   "cell_type": "markdown",
   "metadata": {},
   "source": [
    "Проверим выборки на нормальность"
   ]
  },
  {
   "cell_type": "code",
   "execution_count": 277,
   "metadata": {},
   "outputs": [
    {
     "data": {
      "text/plain": [
       "((0.9717442393302917, 0.8660113215446472),\n",
       " (0.8887045979499817, 0.06410329788923264),\n",
       " (0.9696120619773865, 0.8896085619926453),\n",
       " (0.9521920084953308, 0.6944722533226013),\n",
       " (0.873929500579834, 0.07331383228302002),\n",
       " (0.9448846578598022, 0.48444247245788574))"
      ]
     },
     "execution_count": 277,
     "metadata": {},
     "output_type": "execute_result"
    }
   ],
   "source": [
    "sps.shapiro(X11), sps.shapiro(X21), sps.shapiro(X31), sps.shapiro(X41), sps.shapiro(X51), sps.shapiro(X61)"
   ]
  },
  {
   "cell_type": "code",
   "execution_count": 278,
   "metadata": {},
   "outputs": [
    {
     "data": {
      "text/plain": [
       "(array([False, False, False, False, False, False]),\n",
       " array([1.        , 0.38461979, 1.        , 1.        , 0.38461979,\n",
       "        1.        ]),\n",
       " 0.008512444610847103,\n",
       " 0.008333333333333333)"
      ]
     },
     "execution_count": 278,
     "metadata": {},
     "output_type": "execute_result"
    }
   ],
   "source": [
    "multipletests([sps.shapiro(X11)[1], sps.shapiro(X21)[1], sps.shapiro(X31)[1], sps.shapiro(X41)[1], sps.shapiro(X51)[1], sps.shapiro(X61)[1]], alpha=0.05, method='holm')"
   ]
  },
  {
   "cell_type": "markdown",
   "metadata": {},
   "source": [
    "Как видим, ни в одном из случаев гипотеза не отвергается. Проверим выборки на равентсво дисперсий"
   ]
  },
  {
   "cell_type": "code",
   "execution_count": 279,
   "metadata": {},
   "outputs": [
    {
     "data": {
      "text/plain": [
       "BartlettResult(statistic=16.292372275672335, pvalue=0.006057068762069103)"
      ]
     },
     "execution_count": 279,
     "metadata": {},
     "output_type": "execute_result"
    }
   ],
   "source": [
    "sps.bartlett(*[X11, X21, X31, X41, X51, X61])"
   ]
  },
  {
   "cell_type": "markdown",
   "metadata": {},
   "source": [
    "Гипотеза о равенстве дисперсий отвергается, поэтому применять критерий Фишера не можем.\n",
    "Применим критерий Краскела-Уоллиса"
   ]
  },
  {
   "cell_type": "code",
   "execution_count": 284,
   "metadata": {},
   "outputs": [
    {
     "data": {
      "text/plain": [
       "KruskalResult(statistic=21.085954401803896, pvalue=0.0007803212325396148)"
      ]
     },
     "execution_count": 284,
     "metadata": {},
     "output_type": "execute_result"
    }
   ],
   "source": [
    "sps.kruskal(X11, X21, X31, X41, X51, X61)"
   ]
  },
  {
   "cell_type": "markdown",
   "metadata": {},
   "source": [
    "Как видим, гипотеза об одинаковости эффекта разных лекарств на Фаттахова отвергается. Теперь поймем какое из лекарств ему помогает лучше. Для этого для каждой пары лекарств применим критерий Шеффе"
   ]
  },
  {
   "cell_type": "code",
   "execution_count": 270,
   "metadata": {
    "collapsed": true
   },
   "outputs": [],
   "source": [
    "def sheffe(c, samples):\n",
    "    ns = np.array(list(map(lambda x: len(x), samples)))\n",
    "    k = len(samples)\n",
    "    n = np.array(ns).sum()\n",
    "    sin = 1./(n - k)*(ns* np.array(list(map(lambda x: np.array(x).var(), samples)))).sum()\n",
    "    S = (c * np.array(list(map(lambda x: np.array(x).mean(), samples)))).sum()**2/((k - 1) * sin * (c**2/ns).sum())\n",
    "    return S"
   ]
  },
  {
   "cell_type": "code",
   "execution_count": 271,
   "metadata": {},
   "outputs": [
    {
     "name": "stdout",
     "output_type": "stream",
     "text": [
      "sheffe for 1 and 2 : statistic : 2.7363988528710945, pvalue : 0.025295245127498513\n",
      "sheffe for 1 and 3 : statistic : 0.9211236562154548, pvalue : 0.47224179253190457\n",
      "sheffe for 1 and 4 : statistic : 0.6350595010737174, pvalue : 0.6735842106630963\n",
      "sheffe for 1 and 5 : statistic : 0.004869779562589165, pvalue : 0.9999948756496561\n",
      "sheffe for 1 and 6 : statistic : 0.036132959432170125, pvalue : 0.9992757996568074\n",
      "sheffe for 2 and 3 : statistic : 0.3883836500378821, pvalue : 0.8552885249474018\n",
      "sheffe for 2 and 4 : statistic : 0.4480744544706446, pvalue : 0.8133763376210654\n",
      "sheffe for 2 and 5 : statistic : 2.572323099209083, pvalue : 0.03352361638056368\n",
      "sheffe for 2 and 6 : statistic : 1.9955498988963933, pvalue : 0.08916037053090012\n",
      "sheffe for 3 and 4 : statistic : 0.007789116775369381, pvalue : 0.9999835118285026\n",
      "sheffe for 3 and 5 : statistic : 0.9249947215676072, pvalue : 0.46978349682623766\n",
      "sheffe for 3 and 6 : statistic : 0.5622182347984583, pvalue : 0.7285838390778894\n",
      "sheffe for 4 and 5 : statistic : 0.6601584400664758, pvalue : 0.654759022911245\n",
      "sheffe for 4 and 6 : statistic : 0.3694955304642564, pvalue : 0.8679687106174816\n",
      "sheffe for 5 and 6 : statistic : 0.05981501012637365, pvalue : 0.9975581012603808\n",
      "Плотность Фишера в точке 0.95  2.338277630605569\n"
     ]
    }
   ],
   "source": [
    "ssamples = np.array([X11, X21, X31, X41, X51, X61])\n",
    "k = 6\n",
    "N = len(X11) + len(X21) + len(X31) + len(X41) + len(X51) + len(X61)\n",
    "pvalues = []\n",
    "for i in range(5):\n",
    "    for j in range(i+1, 6):\n",
    "        c = np.zeros(6)\n",
    "        c[i] = 1\n",
    "        c[j] = -1\n",
    "        S = sheffe(c, ssamples)\n",
    "        pvalue = sps.f.sf(S, k-1, N-k)\n",
    "        pvalues.append(pvalue)\n",
    "        print(\"sheffe for {} and {} : statistic : {}, pvalue : {}\".format(i+1, j+1, S, pvalue))\n",
    "        \n",
    "print('Плотность Фишера в точке 0.95 ', sps.f.ppf(0.95, k-1, N-k))"
   ]
  },
  {
   "cell_type": "markdown",
   "metadata": {},
   "source": [
    "Получили, что отвергается только одна гипотеза о равенстве эффектов, но нужно загонать все это в множественную проверку гипотез"
   ]
  },
  {
   "cell_type": "markdown",
   "metadata": {},
   "source": [
    "Посмотрим на полученные статистики и pvalue. Видим, что мы получали самую большую статистику в парах со вторым лекарством (более того в случае с парой первое и второе лекарство это статистически значимо, а в случае с 5 и 2 и 6 и 2 это почти статистически значимо). Этим лекарством является Codeine. Более того, если мы еще раз посмотрим на boxplot, то увидим, что у второго лекарства матожидание времени намного меньше, чем у остальных. Отсюда делаем вывод, что Фаттахову больше подходит Codeine. <br>\n",
    "То есть если под вопросом в задании \"Так ли то, что мистеру Фаттахову лучше всего помогает плацебо\" подразумевается то, что на него одинаково воздействуют лекарства, то можно сказать, что это не так и ему помогает лучше Codeine."
   ]
  },
  {
   "cell_type": "markdown",
   "metadata": {},
   "source": [
    "**для господина Цай**"
   ]
  },
  {
   "cell_type": "markdown",
   "metadata": {},
   "source": [
    "Визуализируем данные"
   ]
  },
  {
   "cell_type": "code",
   "execution_count": 141,
   "metadata": {},
   "outputs": [
    {
     "data": {
      "image/png": "[encoded data removed]",
      "text/plain": [
       "<Figure size 576x504 with 1 Axes>"
      ]
     },
     "metadata": {},
     "output_type": "display_data"
    }
   ],
   "source": [
    "plt.figure(figsize=(8, 7))\n",
    "sns.boxplot(data=[X12, X22, X32, X42, X52, X62])\n",
    "plt.xlabel('Drugs')\n",
    "plt.ylabel('Time')\n",
    "plt.show()"
   ]
  },
  {
   "cell_type": "markdown",
   "metadata": {},
   "source": [
    "Проверяем на нормальность"
   ]
  },
  {
   "cell_type": "code",
   "execution_count": 144,
   "metadata": {},
   "outputs": [
    {
     "data": {
      "text/plain": [
       "(array([False, False, False, False, False, False]),\n",
       " array([1.        , 0.73802894, 1.        , 1.        , 1.        ,\n",
       "        1.        ]),\n",
       " 0.008512444610847103,\n",
       " 0.008333333333333333)"
      ]
     },
     "execution_count": 144,
     "metadata": {},
     "output_type": "execute_result"
    }
   ],
   "source": [
    "multipletests([sps.shapiro(X12)[1], sps.shapiro(X22)[1], sps.shapiro(X32)[1], sps.shapiro(X42)[1], sps.shapiro(X52)[1], sps.shapiro(X62)[1]], alpha=0.05, method='holm')"
   ]
  },
  {
   "cell_type": "markdown",
   "metadata": {},
   "source": [
    "На равенство дисперсий"
   ]
  },
  {
   "cell_type": "code",
   "execution_count": 146,
   "metadata": {},
   "outputs": [
    {
     "data": {
      "text/plain": [
       "BartlettResult(statistic=14.719503929741753, pvalue=0.01163056146599319)"
      ]
     },
     "execution_count": 146,
     "metadata": {},
     "output_type": "execute_result"
    }
   ],
   "source": [
    "sps.bartlett(*[X12, X22, X32, X42, X52, X62])"
   ]
  },
  {
   "cell_type": "markdown",
   "metadata": {},
   "source": [
    "Гипотеза и равенстве дисперсий отвергается. Поэтому критерий Фишера опять не можем использовать. Проверим критерием Краскела-Уоллиса"
   ]
  },
  {
   "cell_type": "code",
   "execution_count": 147,
   "metadata": {},
   "outputs": [
    {
     "data": {
      "text/plain": [
       "KruskalResult(statistic=7.169709809391415, pvalue=0.20832165452384038)"
      ]
     },
     "execution_count": 147,
     "metadata": {},
     "output_type": "execute_result"
    }
   ],
   "source": [
    "sps.kruskal(X12, X22, X32, X42, X52, X62)"
   ]
  },
  {
   "cell_type": "markdown",
   "metadata": {},
   "source": [
    "В данном случае получили, что различие в эффектах разных лекарств незначимо. То есть можем считать, что господину Цаю без разницы какое лекарство принимать."
   ]
  },
  {
   "cell_type": "markdown",
   "metadata": {},
   "source": [
    "## Задача 4"
   ]
  },
  {
   "cell_type": "code",
   "execution_count": 149,
   "metadata": {},
   "outputs": [
    {
     "data": {
      "text/plain": [
       "(250, 3)"
      ]
     },
     "execution_count": 149,
     "metadata": {},
     "output_type": "execute_result"
    }
   ],
   "source": [
    "data = np.load('hw7t4.npy')\n",
    "data.shape"
   ]
  },
  {
   "cell_type": "markdown",
   "metadata": {},
   "source": [
    "Посмотрим на значения факторов"
   ]
  },
  {
   "cell_type": "code",
   "execution_count": 162,
   "metadata": {},
   "outputs": [
    {
     "data": {
      "text/plain": [
       "(array([0., 1., 2., 3., 4.]), array([0., 1., 2., 3., 4.]))"
      ]
     },
     "execution_count": 162,
     "metadata": {},
     "output_type": "execute_result"
    }
   ],
   "source": [
    "np.unique(data[:,0]), np.unique(data[:,1])"
   ]
  },
  {
   "cell_type": "markdown",
   "metadata": {},
   "source": [
    "Сделаем из данных трехмерную таблицу"
   ]
  },
  {
   "cell_type": "code",
   "execution_count": 167,
   "metadata": {},
   "outputs": [
    {
     "name": "stdout",
     "output_type": "stream",
     "text": [
      "(5, 5, 10)\n"
     ]
    }
   ],
   "source": [
    "sample = [[[] for i in range(5)] for i in range(5)]\n",
    "\n",
    "for i in range(5):\n",
    "    for j in range(5):\n",
    "        data_i = data[data[:,0] == i]\n",
    "        data_i_j = data_i[data_i[:,1] == j][:,2]\n",
    "        data_i_j\n",
    "        sample[i][j] = data_i_j\n",
    "print(np.array(sample).shape)"
   ]
  },
  {
   "cell_type": "markdown",
   "metadata": {},
   "source": [
    "Проверим каждую выборку для i-ого и j-ого факторов на нормальность."
   ]
  },
  {
   "cell_type": "code",
   "execution_count": 184,
   "metadata": {},
   "outputs": [
    {
     "data": {
      "text/plain": [
       "(array([False, False, False, False, False, False, False, False, False,\n",
       "        False, False, False, False, False, False, False, False, False,\n",
       "        False, False, False, False, False, False, False]),\n",
       " array([1., 1., 1., 1., 1., 1., 1., 1., 1., 1., 1., 1., 1., 1., 1., 1., 1.,\n",
       "        1., 1., 1., 1., 1., 1., 1., 1.]),\n",
       " 0.0020496284126207964,\n",
       " 0.002)"
      ]
     },
     "execution_count": 184,
     "metadata": {},
     "output_type": "execute_result"
    }
   ],
   "source": [
    "pvalues = []\n",
    "for i in range(5):\n",
    "    for j in range(5): \n",
    "        mean = sample[i][j].mean()\n",
    "        std = sample[i][j].std()\n",
    "        \n",
    "        pvalues.append(sps.kstest(sample[i][j], sps.norm(loc=mean, scale=std).cdf)[1])\n",
    "multipletests(pvalues, alpha=0.05, method='holm')\n"
   ]
  },
  {
   "cell_type": "markdown",
   "metadata": {},
   "source": [
    "Видим, что после множественной проверки ни одна из гипотез о нормальности не отвергается. Проверим все выборки на равенство дисперсий"
   ]
  },
  {
   "cell_type": "code",
   "execution_count": 205,
   "metadata": {},
   "outputs": [
    {
     "data": {
      "text/plain": [
       "BartlettResult(statistic=63.86139765108315, pvalue=1.7853006082480802e-05)"
      ]
     },
     "execution_count": 205,
     "metadata": {},
     "output_type": "execute_result"
    }
   ],
   "source": [
    "sample = np.array(sample)\n",
    "sps.bartlett(*np.vstack((sample[0], sample[1], sample[2], sample[3], sample[4])))"
   ]
  },
  {
   "cell_type": "markdown",
   "metadata": {},
   "source": [
    "Получили, что гипотеза о том, что дисперсии одинаковы, отвергается. Что плохо для использования единственного критерия двухфакторного анализа, который мы изучили(критерий Фишера). Но другого критерия у нас нет, так что все равно будем применять его."
   ]
  },
  {
   "cell_type": "code",
   "execution_count": 251,
   "metadata": {},
   "outputs": [
    {
     "name": "stdout",
     "output_type": "stream",
     "text": [
      "0.0015250993253828752\n",
      "7.391588105092054e-08\n",
      "0.6466025101739976\n"
     ]
    }
   ],
   "source": [
    "n = 10.\n",
    "m, k = 5., 5.\n",
    "X1 = np.mean(sample, axis=2).mean(axis=1)\n",
    "X2 = np.mean(sample, axis=2).mean(axis=0)\n",
    "X12 = np.mean(sample, axis=2)\n",
    "\n",
    "S1 = (n * m / (k - 1)) * np.sum((X1 - np.mean(sample))**2)\n",
    "S2 = (n * k / (m - 1)) * np.sum((X2- np.mean(sample))**2)\n",
    "S12 = n / ((k - 1)*(m - 1)) * np.sum((X12 - X1[:,np.newaxis] - X2[np.newaxis:,] + np.mean(sample))**2)\n",
    "S_int = 1 / (k * m * (n - 1)) * np.sum((sample - X12[:,:,np.newaxis])**2)\n",
    "\n",
    "F1 = S1 / S_int\n",
    "F2 = S2 / S_int\n",
    "F12 = S12 / S_int\n",
    "\n",
    "pvalue1 = sps.f.sf(F1, k - 1, k * m * (n - 1))\n",
    "pvalue2 = sps.f.sf(F2, m - 1, k * m * (n - 1))\n",
    "pvalue3 = sps.f.sf(F12, (k - 1)*(m - 1), k * m * (n - 1))\n",
    "\n",
    "print(pvalue1)\n",
    "print(pvalue2)\n",
    "print(pvalue3)"
   ]
  },
  {
   "cell_type": "code",
   "execution_count": 253,
   "metadata": {},
   "outputs": [
    {
     "data": {
      "text/plain": [
       "(array([ True,  True, False]),\n",
       " array([3.05019865e-03, 2.21747643e-07, 6.46602510e-01]),\n",
       " 0.016952427508441503,\n",
       " 0.016666666666666666)"
      ]
     },
     "execution_count": 253,
     "metadata": {},
     "output_type": "execute_result"
    }
   ],
   "source": [
    "multipletests([pvalue1, pvalue2, pvalue3], alpha=0.05, method='holm')"
   ]
  },
  {
   "cell_type": "markdown",
   "metadata": {},
   "source": [
    "Получили, что гипотезы об отсутвии влияния обоих факторов отвергаются, а гипотеза об отсутствии взаимодействия этих двух факторов не отвергается. То есть влияние обоих факторов на наблюдения является статистически значимым."
   ]
  }
 ],
 "metadata": {
  "kernelspec": {
   "display_name": "Python 3",
   "language": "python",
   "name": "python3"
  },
  "language_info": {
   "codemirror_mode": {
    "name": "ipython",
    "version": 3
   },
   "file_extension": ".py",
   "mimetype": "text/x-python",
   "name": "python",
   "nbconvert_exporter": "python",
   "pygments_lexer": "ipython3",
   "version": "3.6.3"
  }
 },
 "nbformat": 4,
 "nbformat_minor": 2
}
