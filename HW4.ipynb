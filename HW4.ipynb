{
 "cells": [
  {
   "cell_type": "markdown",
   "metadata": {
    "collapsed": true
   },
   "source": [
    "## Домашнее задание 4"
   ]
  },
  {
   "cell_type": "markdown",
   "metadata": {
    "collapsed": true
   },
   "source": [
    "## Задача 2 <br>\n",
    "Пусть m - число гипотез. $M_0$ - индексы верных гипотез и $|M_0| = m_0$ <br>\n",
    "Рассмотрим отсортированные pvalue: $p_{(1)}, p_{(2)}, ..., p_{(m)}$ и соответствующие им гипотезы $H_{(1)}, H_{(2)}, ..., H_{(m)}$ <br>\n",
    "Теперь пусть k - номер первой отвергнутой верной гипотезы в порядке следования pvalue $p_{(1)}, p_{(2)}, ..., p_{(m)}$. <br>\n",
    "Так как $H_{(k)}$ была отвергнута, то $p_{(k)} \\leq \\frac{\\alpha}{m-h+1}$ <br>\n",
    "При этом так как $H_{(k)}$ отвергнута, то и все $H_{(1)}, H_{(2)}, ..., H_{(k-1)}$ тоже отвергнуты (т.к. если бы какая-то из этих была бы принята, то были бы приняты и все последующие). <br>\n",
    "Т.е. $H_{(1)}, H_{(2)}, ..., H_{(k-1)}$ отвергнуты, причем среди нет верных гипотез так как мы именно так выбрали k. Тогда среди $H_{(k)}, H_{(k+1)}, ..., H_{(m)}$ точно есть $m_0$ верных гипотез. Тогда получим, что $m - k + 1 \\geq m_0$. $\\Rightarrow \\frac{1}{m - k + 1} \\leq \\frac{1}{m_0}$ <br>\n",
    "В итоге получим : $p_{(k)} \\leq \\frac{\\alpha}{m-k+1} \\leq \\frac{\\alpha}{m_0}$. То есть если мы отвергаем верную гипотезу, то ее pvalue $\\leq \\frac{\\alpha}{m_0}$. <br>\n",
    "Теперь рассмотрим A = {$p_i \\leq \\frac{\\alpha}{m_0}$}. $\\Rightarrow FWER = P(V>0) = P(A)$ = P({$p_i \\leq \\frac{\\alpha}{m_0}$}) $\\leq m_0 * \\frac{\\alpha}{m_0} = \\alpha$ <br>\n",
    "Таким образом, доказали то, что нужно."
   ]
  },
  {
   "cell_type": "markdown",
   "metadata": {},
   "source": [
    "## Задание 3"
   ]
  },
  {
   "cell_type": "code",
   "execution_count": 26,
   "metadata": {
    "collapsed": true
   },
   "outputs": [],
   "source": [
    "import numpy as np\n",
    "import pandas as pd\n",
    "import sklearn\n",
    "from statsmodels.sandbox.stats.multicomp import multipletests\n",
    "import matplotlib.pyplot as plt\n",
    "%matplotlib inline"
   ]
  },
  {
   "cell_type": "code",
   "execution_count": 9,
   "metadata": {},
   "outputs": [
    {
     "data": {
      "text/html": [
       "<div>\n",
       "<style>\n",
       "    .dataframe thead tr:only-child th {\n",
       "        text-align: right;\n",
       "    }\n",
       "\n",
       "    .dataframe thead th {\n",
       "        text-align: left;\n",
       "    }\n",
       "\n",
       "    .dataframe tbody tr th {\n",
       "        vertical-align: top;\n",
       "    }\n",
       "</style>\n",
       "<table border=\"1\" class=\"dataframe\">\n",
       "  <thead>\n",
       "    <tr style=\"text-align: right;\">\n",
       "      <th></th>\n",
       "      <th>label</th>\n",
       "      <th>Alcohol</th>\n",
       "      <th>Malic acid</th>\n",
       "      <th>Ash</th>\n",
       "      <th>Alcalinity of ash</th>\n",
       "      <th>Magnesium</th>\n",
       "      <th>Total phenols</th>\n",
       "      <th>Flavanoids</th>\n",
       "      <th>Nonflavanoid phenols</th>\n",
       "      <th>Proanthocyanins</th>\n",
       "      <th>Color intensity</th>\n",
       "      <th>Hue</th>\n",
       "      <th>OD280/OD315 of diluted wines</th>\n",
       "      <th>Proline</th>\n",
       "    </tr>\n",
       "  </thead>\n",
       "  <tbody>\n",
       "    <tr>\n",
       "      <th>0</th>\n",
       "      <td>1</td>\n",
       "      <td>14.23</td>\n",
       "      <td>1.71</td>\n",
       "      <td>2.43</td>\n",
       "      <td>15.6</td>\n",
       "      <td>127</td>\n",
       "      <td>2.80</td>\n",
       "      <td>3.06</td>\n",
       "      <td>0.28</td>\n",
       "      <td>2.29</td>\n",
       "      <td>5.64</td>\n",
       "      <td>1.04</td>\n",
       "      <td>3.92</td>\n",
       "      <td>1065</td>\n",
       "    </tr>\n",
       "    <tr>\n",
       "      <th>1</th>\n",
       "      <td>1</td>\n",
       "      <td>13.20</td>\n",
       "      <td>1.78</td>\n",
       "      <td>2.14</td>\n",
       "      <td>11.2</td>\n",
       "      <td>100</td>\n",
       "      <td>2.65</td>\n",
       "      <td>2.76</td>\n",
       "      <td>0.26</td>\n",
       "      <td>1.28</td>\n",
       "      <td>4.38</td>\n",
       "      <td>1.05</td>\n",
       "      <td>3.40</td>\n",
       "      <td>1050</td>\n",
       "    </tr>\n",
       "    <tr>\n",
       "      <th>2</th>\n",
       "      <td>1</td>\n",
       "      <td>13.16</td>\n",
       "      <td>2.36</td>\n",
       "      <td>2.67</td>\n",
       "      <td>18.6</td>\n",
       "      <td>101</td>\n",
       "      <td>2.80</td>\n",
       "      <td>3.24</td>\n",
       "      <td>0.30</td>\n",
       "      <td>2.81</td>\n",
       "      <td>5.68</td>\n",
       "      <td>1.03</td>\n",
       "      <td>3.17</td>\n",
       "      <td>1185</td>\n",
       "    </tr>\n",
       "    <tr>\n",
       "      <th>3</th>\n",
       "      <td>1</td>\n",
       "      <td>14.37</td>\n",
       "      <td>1.95</td>\n",
       "      <td>2.50</td>\n",
       "      <td>16.8</td>\n",
       "      <td>113</td>\n",
       "      <td>3.85</td>\n",
       "      <td>3.49</td>\n",
       "      <td>0.24</td>\n",
       "      <td>2.18</td>\n",
       "      <td>7.80</td>\n",
       "      <td>0.86</td>\n",
       "      <td>3.45</td>\n",
       "      <td>1480</td>\n",
       "    </tr>\n",
       "    <tr>\n",
       "      <th>4</th>\n",
       "      <td>1</td>\n",
       "      <td>13.24</td>\n",
       "      <td>2.59</td>\n",
       "      <td>2.87</td>\n",
       "      <td>21.0</td>\n",
       "      <td>118</td>\n",
       "      <td>2.80</td>\n",
       "      <td>2.69</td>\n",
       "      <td>0.39</td>\n",
       "      <td>1.82</td>\n",
       "      <td>4.32</td>\n",
       "      <td>1.04</td>\n",
       "      <td>2.93</td>\n",
       "      <td>735</td>\n",
       "    </tr>\n",
       "  </tbody>\n",
       "</table>\n",
       "</div>"
      ],
      "text/plain": [
       "   label  Alcohol  Malic acid   Ash  Alcalinity of ash  Magnesium  \\\n",
       "0      1    14.23        1.71  2.43               15.6        127   \n",
       "1      1    13.20        1.78  2.14               11.2        100   \n",
       "2      1    13.16        2.36  2.67               18.6        101   \n",
       "3      1    14.37        1.95  2.50               16.8        113   \n",
       "4      1    13.24        2.59  2.87               21.0        118   \n",
       "\n",
       "   Total phenols  Flavanoids  Nonflavanoid phenols  Proanthocyanins  \\\n",
       "0           2.80        3.06                  0.28             2.29   \n",
       "1           2.65        2.76                  0.26             1.28   \n",
       "2           2.80        3.24                  0.30             2.81   \n",
       "3           3.85        3.49                  0.24             2.18   \n",
       "4           2.80        2.69                  0.39             1.82   \n",
       "\n",
       "   Color intensity   Hue  OD280/OD315 of diluted wines  Proline  \n",
       "0             5.64  1.04                          3.92     1065  \n",
       "1             4.38  1.05                          3.40     1050  \n",
       "2             5.68  1.03                          3.17     1185  \n",
       "3             7.80  0.86                          3.45     1480  \n",
       "4             4.32  1.04                          2.93      735  "
      ]
     },
     "execution_count": 9,
     "metadata": {},
     "output_type": "execute_result"
    }
   ],
   "source": [
    "names = ['label', 'Alcohol', 'Malic acid', 'Ash', 'Alcalinity of ash', 'Magnesium', 'Total phenols', 'Flavanoids', \n",
    "         'Nonflavanoid phenols','Proanthocyanins', 'Color intensity', 'Hue', 'OD280/OD315 of diluted wines','Proline'] \n",
    "data = pd.read_csv('wine.data', names=names)\n",
    "data.head()"
   ]
  },
  {
   "cell_type": "code",
   "execution_count": 11,
   "metadata": {},
   "outputs": [
    {
     "data": {
      "text/plain": [
       "178"
      ]
     },
     "execution_count": 11,
     "metadata": {},
     "output_type": "execute_result"
    }
   ],
   "source": [
    "X = np.array(data.Alcohol)\n"
   ]
  },
  {
   "cell_type": "markdown",
   "metadata": {},
   "source": [
    "Сначала отмасштабируем, чтобы проверять на принадлежность к стандартному нормальному."
   ]
  },
  {
   "cell_type": "code",
   "execution_count": 16,
   "metadata": {
    "collapsed": true
   },
   "outputs": [],
   "source": [
    "X_new = (X - np.mean(X)) / np.std(X)"
   ]
  },
  {
   "cell_type": "markdown",
   "metadata": {},
   "source": [
    "**Критерий Колмогорова (Лил-лиефорса)**"
   ]
  },
  {
   "cell_type": "code",
   "execution_count": 30,
   "metadata": {},
   "outputs": [
    {
     "data": {
      "text/plain": [
       "KstestResult(statistic=0.06854144954910629, pvalue=0.35890272266893386)"
      ]
     },
     "execution_count": 30,
     "metadata": {},
     "output_type": "execute_result"
    }
   ],
   "source": [
    "kstest = sps.kstest(X_new, cdf=sps.norm.cdf)\n",
    "kstest"
   ]
  },
  {
   "cell_type": "markdown",
   "metadata": {},
   "source": [
    "**Критерий Шапиро-Уилка**"
   ]
  },
  {
   "cell_type": "code",
   "execution_count": 31,
   "metadata": {},
   "outputs": [
    {
     "data": {
      "text/plain": [
       "(0.9818047285079956, 0.02005171775817871)"
      ]
     },
     "execution_count": 31,
     "metadata": {},
     "output_type": "execute_result"
    }
   ],
   "source": [
    "shapiro = sps.shapiro(X_new)\n",
    "shapiro"
   ]
  },
  {
   "cell_type": "markdown",
   "metadata": {},
   "source": [
    "**Критерий Жарка-Бера**"
   ]
  },
  {
   "cell_type": "code",
   "execution_count": 32,
   "metadata": {},
   "outputs": [
    {
     "data": {
      "text/plain": [
       "(5.591542594069666, 0.06106775478515103)"
      ]
     },
     "execution_count": 32,
     "metadata": {},
     "output_type": "execute_result"
    }
   ],
   "source": [
    "jarque_bera = sps.jarque_bera(X_new)\n",
    "jarque_bera "
   ]
  },
  {
   "cell_type": "markdown",
   "metadata": {},
   "source": [
    "**Критерий на основе выборочного коэффициента асимметрии**"
   ]
  },
  {
   "cell_type": "code",
   "execution_count": 33,
   "metadata": {},
   "outputs": [
    {
     "data": {
      "text/plain": [
       "SkewtestResult(statistic=-0.2885622428923775, pvalue=0.7729163926473778)"
      ]
     },
     "execution_count": 33,
     "metadata": {},
     "output_type": "execute_result"
    }
   ],
   "source": [
    "skewtest = sps.skewtest(X_new)\n",
    "skewtest"
   ]
  },
  {
   "cell_type": "markdown",
   "metadata": {},
   "source": [
    "**normaltest**"
   ]
  },
  {
   "cell_type": "code",
   "execution_count": 46,
   "metadata": {},
   "outputs": [
    {
     "data": {
      "text/plain": [
       "NormaltestResult(statistic=15.963552699056656, pvalue=0.00034163202531286235)"
      ]
     },
     "execution_count": 46,
     "metadata": {},
     "output_type": "execute_result"
    }
   ],
   "source": [
    "normaltest = sps.normaltest(X_new)\n",
    "normaltest"
   ]
  },
  {
   "cell_type": "markdown",
   "metadata": {},
   "source": [
    "Применим множественную проверку гипотез. Будем использовать метод Холма, так как мы не знаем ничего о характере зависимости между статистиками и поэтому метод Холма является самой мощной процедурой, контролирующей FWER на уровне $\\alpha$"
   ]
  },
  {
   "cell_type": "code",
   "execution_count": 47,
   "metadata": {},
   "outputs": [
    {
     "data": {
      "text/plain": [
       "(array([False, False, False, False,  True]),\n",
       " array([0.71780545, 0.08020687, 0.18320326, 0.77291639, 0.00170816]),\n",
       " 0.010206218313011495,\n",
       " 0.01)"
      ]
     },
     "execution_count": 47,
     "metadata": {},
     "output_type": "execute_result"
    }
   ],
   "source": [
    "multipletests([kstest[1], shapiro[1], jarque_bera[1], skewtest[1], normaltest[1]], alpha=0.05, method='holm')"
   ]
  },
  {
   "cell_type": "markdown",
   "metadata": {},
   "source": [
    "Как видим, даже после множественной проверки гипотез, придется отвергнуть гипотезу о нормальности распределения."
   ]
  },
  {
   "cell_type": "markdown",
   "metadata": {
    "collapsed": true
   },
   "source": [
    "если имеется ввиду, что мы должны написать множественную проверку гипотез сами, то вот"
   ]
  },
  {
   "cell_type": "code",
   "execution_count": 41,
   "metadata": {
    "collapsed": true
   },
   "outputs": [],
   "source": [
    "def holm(pvalues, alpha):\n",
    "    m = pvalues.shape[0]\n",
    "    stop = m\n",
    "    for i, pval in enumerate(sorted(pvalues)):\n",
    "        if pval >= alpha/(m - i):\n",
    "            stop = i\n",
    "            break\n",
    "    return np.argsort(pvalues)>=stop"
   ]
  },
  {
   "cell_type": "markdown",
   "metadata": {
    "collapsed": true
   },
   "source": [
    "## Задача 4"
   ]
  },
  {
   "cell_type": "code",
   "execution_count": 48,
   "metadata": {},
   "outputs": [
    {
     "name": "stdout",
     "output_type": "stream",
     "text": [
      "(1000,)\n"
     ]
    }
   ],
   "source": [
    "X = np.load('hw4t4.npy')\n",
    "print(X.shape)"
   ]
  },
  {
   "cell_type": "code",
   "execution_count": 129,
   "metadata": {},
   "outputs": [
    {
     "data": {
      "image/png": "[encoded data removed]",
      "text/plain": [
       "<Figure size 432x288 with 1 Axes>"
      ]
     },
     "metadata": {},
     "output_type": "display_data"
    }
   ],
   "source": [
    "plt.hist(X, bins=100)\n",
    "plt.show()"
   ]
  },
  {
   "cell_type": "markdown",
   "metadata": {},
   "source": [
    "Как видим из данного графика, наши данные содержат выбросы. Чтобы понять, экспоненциальное распределение ли имеют данные, сначала уберем выбросы используя границы Тьюки."
   ]
  },
  {
   "cell_type": "code",
   "execution_count": 134,
   "metadata": {},
   "outputs": [
    {
     "name": "stdout",
     "output_type": "stream",
     "text": [
      "Полученный интервал: (-6.874358709913871, 14.615005673354563)\n"
     ]
    }
   ],
   "source": [
    "Q1 = np.percentile(X, 25)\n",
    "Q3 = np.percentile(X, 75)\n",
    "k = 1.5\n",
    "left = Q1 - k*(Q3 - Q1)\n",
    "right = Q3 + k*(Q3 - Q1)\n",
    "print('Полученный интервал: ({}, {})'.format(left, right))"
   ]
  },
  {
   "cell_type": "markdown",
   "metadata": {},
   "source": [
    "Оставим только те значения, которые попадают в этот интервал"
   ]
  },
  {
   "cell_type": "code",
   "execution_count": 144,
   "metadata": {},
   "outputs": [
    {
     "name": "stdout",
     "output_type": "stream",
     "text": [
      "(937,)\n"
     ]
    }
   ],
   "source": [
    "X_clear = X[X > left]\n",
    "X_clear = X_clear[X_clear < right]\n",
    "print(X_clear.shape)"
   ]
  },
  {
   "cell_type": "code",
   "execution_count": 154,
   "metadata": {},
   "outputs": [
    {
     "data": {
      "image/png": "[encoded data removed]",
      "text/plain": [
       "<Figure size 432x288 with 1 Axes>"
      ]
     },
     "metadata": {},
     "output_type": "display_data"
    }
   ],
   "source": [
    "plt.hist(X_clear, bins=140)\n",
    "plt.show()"
   ]
  },
  {
   "cell_type": "markdown",
   "metadata": {},
   "source": [
    "Так как в этой задаче мы рассматриваем экспонециальное распределение с одиним параметром, то положим loc = 0."
   ]
  },
  {
   "cell_type": "code",
   "execution_count": 158,
   "metadata": {},
   "outputs": [
    {
     "name": "stdout",
     "output_type": "stream",
     "text": [
      "0.0022997618405856063 3.7418565320229242\n"
     ]
    }
   ],
   "source": [
    "loc, scale = sps.expon.fit(X_clear)\n",
    "print(loc, scale)\n",
    "loc = 0"
   ]
  },
  {
   "cell_type": "code",
   "execution_count": 159,
   "metadata": {},
   "outputs": [
    {
     "data": {
      "text/plain": [
       "KstestResult(statistic=0.038642257726331786, pvalue=0.11869593684547097)"
      ]
     },
     "execution_count": 159,
     "metadata": {},
     "output_type": "execute_result"
    }
   ],
   "source": [
    "kstest = sps.kstest(X_clear, 'expon', args=[loc, scale])\n",
    "kstest"
   ]
  },
  {
   "cell_type": "markdown",
   "metadata": {},
   "source": [
    "Получили хороший pvalue, поэтому можем принять гипотезу о том, что данные распределены экспоненциально, на уровне значимости $\\alpha =0.05$"
   ]
  },
  {
   "cell_type": "markdown",
   "metadata": {},
   "source": [
    "Найдем оценку среднего срока службы лампочки"
   ]
  },
  {
   "cell_type": "code",
   "execution_count": 163,
   "metadata": {},
   "outputs": [
    {
     "name": "stdout",
     "output_type": "stream",
     "text": [
      "Средний срок службы лампочки:  3.744212438329417\n"
     ]
    }
   ],
   "source": [
    "print('Средний срок службы лампочки: ', np.mean(X_clear))"
   ]
  },
  {
   "cell_type": "markdown",
   "metadata": {},
   "source": [
    "## Задача 5"
   ]
  },
  {
   "cell_type": "markdown",
   "metadata": {},
   "source": [
    "Считываем выборки"
   ]
  },
  {
   "cell_type": "code",
   "execution_count": 122,
   "metadata": {
    "collapsed": true
   },
   "outputs": [],
   "source": [
    "names = ['label', 'Alcohol', 'Malic acid', 'Ash', 'Alcalinity of ash', 'Magnesium', 'Total phenols', 'Flavanoids', \n",
    "         'Nonflavanoid phenols','Proanthocyanins', 'Color intensity', 'Hue', 'OD280/OD315 of diluted wines','Proline'] \n",
    "data = pd.read_csv('wine.data', names=names)\n",
    "X4 = data.Alcohol\n",
    "X5 = data.Ash\n",
    "X2 = data['Alcalinity of ash']\n",
    "X6 = data['Nonflavanoid phenols']\n",
    "X7 = data['Proanthocyanins']"
   ]
  },
  {
   "cell_type": "code",
   "execution_count": 123,
   "metadata": {
    "collapsed": true
   },
   "outputs": [],
   "source": [
    "names = ['0', '1', '2', '3', '4', '5', '6', '7', '8', '9', '10', '11', '12', '13', '14']\n",
    "data = pd.read_csv('vowel-context.csv', sep = ' ', names=names)\n",
    "X3 = data['7']"
   ]
  },
  {
   "cell_type": "code",
   "execution_count": 124,
   "metadata": {
    "collapsed": true
   },
   "outputs": [],
   "source": [
    "data = pd.read_csv('slump_test.csv', encoding='latin1')\n",
    "X1 = np.array(data['Compressive Strength (28-day)(Mpa)'])"
   ]
  },
  {
   "cell_type": "markdown",
   "metadata": {},
   "source": [
    "Проверяем каждую выборку на нормальность 5 критериями"
   ]
  },
  {
   "cell_type": "code",
   "execution_count": 125,
   "metadata": {
    "collapsed": true
   },
   "outputs": [],
   "source": [
    "#нормализуем\n",
    "X1 = (X1 - np.mean(X1)) / np.std(X1)\n",
    "X2 = (X2 - np.mean(X2)) / np.std(X2)\n",
    "X3 = (X3 - np.mean(X3)) / np.std(X3)\n",
    "X4 = (X4 - np.mean(X4)) / np.std(X4)\n",
    "X5 = (X5 - np.mean(X5)) / np.std(X5)\n",
    "X6 = (X6 - np.mean(X6)) / np.std(X6)\n",
    "X7 = (X7 - np.mean(X7)) / np.std(X7)\n",
    "\n",
    "\n",
    "pvalues_1 = []\n",
    "pvalues_1.append(sps.kstest(X1, cdf=sps.norm.cdf)[1])\n",
    "pvalues_1.append(sps.shapiro(X1)[1])\n",
    "pvalues_1.append(sps.jarque_bera(X1)[1])\n",
    "pvalues_1.append(sps.skewtest(X1)[1])\n",
    "pvalues_1.append(sps.normaltest(X1)[1])\n",
    "\n",
    "pvalues_2 = []\n",
    "pvalues_2.append(sps.kstest(X2, cdf=sps.norm.cdf)[1])\n",
    "pvalues_2.append(sps.shapiro(X2)[1])\n",
    "pvalues_2.append(sps.jarque_bera(X2)[1])\n",
    "pvalues_2.append(sps.skewtest(X2)[1])\n",
    "pvalues_2.append(sps.normaltest(X2)[1])\n",
    "\n",
    "pvalues_3 = []\n",
    "pvalues_3.append(sps.kstest(X3, cdf=sps.norm.cdf)[1])\n",
    "pvalues_3.append(sps.shapiro(X3)[1])\n",
    "pvalues_3.append(sps.jarque_bera(X3)[1])\n",
    "pvalues_3.append(sps.skewtest(X3)[1])\n",
    "pvalues_3.append(sps.normaltest(X3)[1])\n",
    "\n",
    "pvalues_4 = []\n",
    "pvalues_4.append(sps.kstest(X4, cdf=sps.norm.cdf)[1])\n",
    "pvalues_4.append(sps.shapiro(X4)[1])\n",
    "pvalues_4.append(sps.jarque_bera(X4)[1])\n",
    "pvalues_4.append(sps.skewtest(X4)[1])\n",
    "pvalues_4.append(sps.normaltest(X4)[1])\n",
    "\n",
    "pvalues_5 = []\n",
    "pvalues_5.append(sps.kstest(X5, cdf=sps.norm.cdf)[1])\n",
    "pvalues_5.append(sps.shapiro(X5)[1])\n",
    "pvalues_5.append(sps.jarque_bera(X5)[1])\n",
    "pvalues_5.append(sps.skewtest(X5)[1])\n",
    "pvalues_5.append(sps.normaltest(X5)[1])\n",
    "\n",
    "pvalues_6 = []\n",
    "pvalues_6.append(sps.kstest(X6, cdf=sps.norm.cdf)[1])\n",
    "pvalues_6.append(sps.shapiro(X6)[1])\n",
    "pvalues_6.append(sps.jarque_bera(X6)[1])\n",
    "pvalues_6.append(sps.skewtest(X6)[1])\n",
    "pvalues_6.append(sps.normaltest(X6)[1])\n",
    "\n",
    "pvalues_7 = []\n",
    "pvalues_7.append(sps.kstest(X7, cdf=sps.norm.cdf)[1])\n",
    "pvalues_7.append(sps.shapiro(X7)[1])\n",
    "pvalues_7.append(sps.jarque_bera(X7)[1])\n",
    "pvalues_7.append(sps.skewtest(X7)[1])\n",
    "pvalues_7.append(sps.normaltest(X7)[1])       "
   ]
  },
  {
   "cell_type": "markdown",
   "metadata": {},
   "source": [
    "Теперь применим множественную проверку гипотез. Заметим, что мы ничего не знаем о независимости полученных статистик (так как статистики, посчитанные по одной и той же выборке вполне могут быть зависимы), а поэтому мы не можем применять метод Бенжамини-Хохберга, так как он контролируем FDR на уровне $\\alpha$ только в случае независимых статистик или при выполнении свойства PDRS. Поэтому применим метод Бенжамини-Иекутели, на использование которого таких ограничений не накладывается. <br> <br>\n",
    "Здесь, как получили в прошлом задании, будем считать, что если гипотеза отвергается одним из критериев, то мы ее отвергаем.\n",
    "<br><br>\n",
    "(Хотя на самом деле в случае FDR это работает не совсем так. В случае FDR подойдет следующая схема: отвергнуть гипотезу, если доля критериев, которые отвергают эту гипотезу, $\\geq \\alpha$.<br>\n",
    "Как мне показалось, от нас хотят именно первый вариант, поэтому будем рассмаривать его) "
   ]
  },
  {
   "cell_type": "code",
   "execution_count": 126,
   "metadata": {},
   "outputs": [
    {
     "name": "stdout",
     "output_type": "stream",
     "text": [
      "Выборка 1:\n",
      "[False False False False False]\n",
      "[1. 1. 1. 1. 1.]\n",
      "\n",
      "Выборка 2:\n",
      "[False False False False False]\n",
      "[1. 1. 1. 1. 1.]\n",
      "\n",
      "Выборка 3:\n",
      "[False False False False False]\n",
      "[1.         0.64279453 1.         1.         1.        ]\n",
      "\n",
      "Выборка 4:\n",
      "[False False False False  True]\n",
      "[1.         0.2425211  0.59088081 1.         0.02479178]\n",
      "\n",
      "Выборка 5:\n",
      "[False False False False False]\n",
      "[1.         0.40106346 0.17594621 1.         0.40106346]\n",
      "\n",
      "Выборка 6:\n",
      "[False  True False False False]\n",
      "[0.21540433 0.01531588 0.19436775 0.21540433 0.12891596]\n",
      "\n",
      "Выборка 7:\n",
      "[False False False False False]\n",
      "[1.         0.21540433 0.17594621 0.17594621 0.17594621]\n"
     ]
    }
   ],
   "source": [
    "all_pvalues = pvalues_1 + pvalues_2 + pvalues_3 +  pvalues_4 + pvalues_5 + pvalues_6 + pvalues_7\n",
    "\n",
    "reject, pvals_corrected, _, _ = multipletests(all_pvalues, alpha=0.05, method='fdr_by')\n",
    "print('Выборка 1:')\n",
    "print(reject[:5])\n",
    "print(pvals_corrected[:5])\n",
    "print('\\nВыборка 2:')\n",
    "print(reject[5:10])\n",
    "print(pvals_corrected[5:10])\n",
    "print('\\nВыборка 3:')\n",
    "print(reject[10:15])\n",
    "print(pvals_corrected[10:15])\n",
    "print('\\nВыборка 4:')\n",
    "print(reject[15:20])\n",
    "print(pvals_corrected[15:20])\n",
    "print('\\nВыборка 5:')\n",
    "print(reject[20:25])\n",
    "print(pvals_corrected[20:25])\n",
    "print('\\nВыборка 6:')\n",
    "print(reject[25:30])\n",
    "print(pvals_corrected[25:30])\n",
    "print('\\nВыборка 7:')\n",
    "print(reject[30:35])\n",
    "print(pvals_corrected[30:35])"
   ]
  },
  {
   "cell_type": "markdown",
   "metadata": {},
   "source": [
    "Таким образом гипотеза о нормальности для выборок 1,2,3,5,7 принимаюся на уровне значимости $\\alpha = $0.05, а для выборок 4, 6 отвергаются. <br>\n",
    "Также заметим, что при рассмотрении второго варианта (отвергнуть гипотезу, если доля критериев, которые отвергают эту гипотезу, $\\geq \\alpha$) мы получим такой же вариант."
   ]
  },
  {
   "cell_type": "code",
   "execution_count": null,
   "metadata": {
    "collapsed": true
   },
   "outputs": [],
   "source": []
  }
 ],
 "metadata": {
  "kernelspec": {
   "display_name": "Python 3",
   "language": "python",
   "name": "python3"
  },
  "language_info": {
   "codemirror_mode": {
    "name": "ipython",
    "version": 3
   },
   "file_extension": ".py",
   "mimetype": "text/x-python",
   "name": "python",
   "nbconvert_exporter": "python",
   "pygments_lexer": "ipython3",
   "version": "3.6.3"
  }
 },
 "nbformat": 4,
 "nbformat_minor": 2
}
