{
 "cells": [
  {
   "cell_type": "markdown",
   "metadata": {},
   "source": [
    "## Кириленко Елена"
   ]
  },
  {
   "cell_type": "markdown",
   "metadata": {},
   "source": [
    "## Задача 1"
   ]
  },
  {
   "cell_type": "code",
   "execution_count": 1,
   "metadata": {
    "collapsed": true
   },
   "outputs": [],
   "source": [
    "import numpy as np\n",
    "import pandas as pd\n",
    "import seaborn as sns\n",
    "import scipy.stats as sps\n",
    "from statsmodels.sandbox.stats.multicomp import multipletests\n",
    "import matplotlib.pyplot as plt\n",
    "%matplotlib inline"
   ]
  },
  {
   "cell_type": "markdown",
   "metadata": {},
   "source": [
    "Для проверки гипотезы о независимости породы коровы от жирности молока будем использовать критерий хи-квадрат. Также для его использования нужно проверить, что его можно использовать, то есть доля клеток, в которых ожидаемое количество меньше 5 должно быть не больше 20%."
   ]
  },
  {
   "cell_type": "code",
   "execution_count": 7,
   "metadata": {},
   "outputs": [
    {
     "data": {
      "text/html": [
       "<div>\n",
       "<style>\n",
       "    .dataframe thead tr:only-child th {\n",
       "        text-align: right;\n",
       "    }\n",
       "\n",
       "    .dataframe thead th {\n",
       "        text-align: left;\n",
       "    }\n",
       "\n",
       "    .dataframe tbody tr th {\n",
       "        vertical-align: top;\n",
       "    }\n",
       "</style>\n",
       "<table border=\"1\" class=\"dataframe\">\n",
       "  <thead>\n",
       "    <tr style=\"text-align: right;\">\n",
       "      <th></th>\n",
       "      <th>0</th>\n",
       "      <th>1</th>\n",
       "      <th>2</th>\n",
       "      <th>3</th>\n",
       "    </tr>\n",
       "  </thead>\n",
       "  <tbody>\n",
       "    <tr>\n",
       "      <th>0</th>\n",
       "      <td>13</td>\n",
       "      <td>35</td>\n",
       "      <td>26</td>\n",
       "      <td>46</td>\n",
       "    </tr>\n",
       "    <tr>\n",
       "      <th>1</th>\n",
       "      <td>22</td>\n",
       "      <td>45</td>\n",
       "      <td>48</td>\n",
       "      <td>75</td>\n",
       "    </tr>\n",
       "    <tr>\n",
       "      <th>2</th>\n",
       "      <td>18</td>\n",
       "      <td>30</td>\n",
       "      <td>15</td>\n",
       "      <td>47</td>\n",
       "    </tr>\n",
       "    <tr>\n",
       "      <th>3</th>\n",
       "      <td>44</td>\n",
       "      <td>62</td>\n",
       "      <td>56</td>\n",
       "      <td>68</td>\n",
       "    </tr>\n",
       "  </tbody>\n",
       "</table>\n",
       "</div>"
      ],
      "text/plain": [
       "    0   1   2   3\n",
       "0  13  35  26  46\n",
       "1  22  45  48  75\n",
       "2  18  30  15  47\n",
       "3  44  62  56  68"
      ]
     },
     "execution_count": 7,
     "metadata": {},
     "output_type": "execute_result"
    }
   ],
   "source": [
    "data = np.array([[13, 35, 26, 46], [22, 45, 48, 75], [18, 30, 15, 47], [44, 62, 56, 68]])\n",
    "pd.DataFrame(data)"
   ]
  },
  {
   "cell_type": "code",
   "execution_count": 5,
   "metadata": {},
   "outputs": [
    {
     "data": {
      "text/plain": [
       "0.0"
      ]
     },
     "execution_count": 5,
     "metadata": {},
     "output_type": "execute_result"
    }
   ],
   "source": [
    "chi2, p, dof, expected = sps.chi2_contingency(data)\n",
    "(expected < 5).mean()"
   ]
  },
  {
   "cell_type": "markdown",
   "metadata": {},
   "source": [
    "Все хорошо, можно использовать"
   ]
  },
  {
   "cell_type": "code",
   "execution_count": 8,
   "metadata": {},
   "outputs": [
    {
     "data": {
      "text/plain": [
       "(16.275891254401127, 0.06133904461935207)"
      ]
     },
     "execution_count": 8,
     "metadata": {},
     "output_type": "execute_result"
    }
   ],
   "source": [
    "chi2, p"
   ]
  },
  {
   "cell_type": "markdown",
   "metadata": {},
   "source": [
    "Видим, что статистически значимой зависимости не наблюдается. То есть гипотеза о независимости не отвергается на уровне значимости $\\alpha = 0.05$)"
   ]
  },
  {
   "cell_type": "markdown",
   "metadata": {},
   "source": [
    "## Задача 2"
   ]
  },
  {
   "cell_type": "code",
   "execution_count": 11,
   "metadata": {
    "collapsed": true
   },
   "outputs": [],
   "source": [
    "data = np.load('hw5t2a.npy')\n",
    "X = data[:,0]\n",
    "Y = data[:,1]"
   ]
  },
  {
   "cell_type": "markdown",
   "metadata": {},
   "source": [
    "Посмотрим на график зависимостей, а также на различные статистики -   коэффициенты корреляции Пирсона, Спирмена и Кенделла и на соответствующие им pvalue."
   ]
  },
  {
   "cell_type": "code",
   "execution_count": 21,
   "metadata": {},
   "outputs": [
    {
     "data": {
      "image/png": "[encoded data removed]",
      "text/plain": [
       "<Figure size 1152x360 with 3 Axes>"
      ]
     },
     "metadata": {},
     "output_type": "display_data"
    }
   ],
   "source": [
    "r, pr = sps.pearsonr(X, Y)\n",
    "rho, prho = sps.spearmanr(X, Y)\n",
    "tau, ptau = sps.kendalltau(X, Y)\n",
    "\n",
    "plt.figure(figsize=(16, 5))\n",
    "plt.subplot(1, 3, 1)\n",
    "plt.scatter(X, Y, alpha=0.5, s=10)\n",
    "plt.axis('equal')\n",
    "plt.title('sample', fontsize=16)\n",
    "\n",
    "plt.subplot(1, 3, 2)\n",
    "rects = plt.bar([1, 2, 3], [r, rho, tau])\n",
    "plt.hlines(0, 0.4, 3.6, color='black', alpha=0.5)\n",
    "plt.xticks([1, 2, 3], ['Пирсон', 'Спирмен', 'Кенделл'], fontsize=16)\n",
    "plt.title('Корреляция', fontsize=16)\n",
    "plt.xlim((0.4, 3.6)), plt.ylim((-1, 1))\n",
    "\n",
    "plt.subplot(1, 3, 3)\n",
    "plt.bar([1, 2, 3], [pr, prho, ptau])\n",
    "plt.hlines(0.05, 0.4, 3.6, color='red', alpha=0.5, lw=3)\n",
    "plt.xticks([1, 2, 3], ['Пирсон', 'Спирмен', 'Кенделл'], fontsize=16)\n",
    "plt.title('pvalue', fontsize=16)\n",
    "plt.xlim((0.4, 3.6)), plt.ylim((-0.01, 1))\n",
    "\n",
    "plt.show()"
   ]
  },
  {
   "cell_type": "markdown",
   "metadata": {},
   "source": [
    "Видим, что гипотеза о независимости не отвергается, то есть не наблюдается статистически значимой зависимости.\n",
    "Однако, если посмотреть на график выборок, то можно понять, что зависимость все-таки есть. Это еще раз показывает, что коффициенты корреляции показывают именно корреляцию, то есть условно говоря, линейную зависимость."
   ]
  },
  {
   "cell_type": "markdown",
   "metadata": {},
   "source": [
    "## Задача 3"
   ]
  },
  {
   "cell_type": "markdown",
   "metadata": {},
   "source": [
    "Нам нужно исследовать зависимость вещественного признака от категориального. Для этого нужно разбить вещестсвенную переменную на несколько интервалов, там самым превратив ее в категориальную."
   ]
  },
  {
   "cell_type": "code",
   "execution_count": 66,
   "metadata": {
    "collapsed": true
   },
   "outputs": [],
   "source": [
    "data = np.load('hw5t3.npy')\n",
    "names = data[:, 0]\n",
    "times = np.array(data[:,1], dtype=float)"
   ]
  },
  {
   "cell_type": "code",
   "execution_count": 67,
   "metadata": {},
   "outputs": [
    {
     "data": {
      "text/plain": [
       "array(['Bandersnatch', 'Humpty-Dumpty', 'Mr. Fattakhov',\n",
       "       'Tweedledee and Tweedledum'], dtype='<U25')"
      ]
     },
     "execution_count": 67,
     "metadata": {},
     "output_type": "execute_result"
    }
   ],
   "source": [
    "np.unique(names)"
   ]
  },
  {
   "cell_type": "markdown",
   "metadata": {},
   "source": [
    "Сначала посмотрим визуально. Для этого построим KDE для каждого значения категориального признака."
   ]
  },
  {
   "cell_type": "code",
   "execution_count": 68,
   "metadata": {},
   "outputs": [
    {
     "data": {
      "image/png": "[encoded data removed]",
      "text/plain": [
       "<Figure size 864x360 with 1 Axes>"
      ]
     },
     "metadata": {},
     "output_type": "display_data"
    }
   ],
   "source": [
    "sns.set(font_scale=1.3)\n",
    "plt.figure(figsize=(12, 5))\n",
    "sns.kdeplot(times[names == 'Bandersnatch'], label='Bandersnatch', lw=3)\n",
    "sns.kdeplot(times[names == 'Humpty-Dumpty'], label='Humpty-Dumpty', lw=3)\n",
    "sns.kdeplot(times[names == 'Mr. Fattakhov'], label='Mr. Fattakhov', lw=3)\n",
    "sns.kdeplot(times[names == 'Tweedledee and Tweedledum'], label='Tweedledee and Tweedledum', lw=3)\n",
    "\n",
    "\n",
    "plt.legend(title='Names');"
   ]
  },
  {
   "cell_type": "markdown",
   "metadata": {},
   "source": [
    "Видно, что зависимость есть. Посмотрим, что "
   ]
  },
  {
   "cell_type": "code",
   "execution_count": 69,
   "metadata": {
    "collapsed": true
   },
   "outputs": [],
   "source": [
    "names[names=='Bandersnatch'] = 0\n",
    "names[names=='Humpty-Dumpty'] = 1\n",
    "names[names == 'Mr. Fattakhov'] = 2\n",
    "names[names == 'Tweedledee and Tweedledum'] = 3\n",
    "names = np.array(names, dtype=int)"
   ]
  },
  {
   "cell_type": "code",
   "execution_count": 104,
   "metadata": {},
   "outputs": [
    {
     "data": {
      "text/plain": [
       "(array([[22., 21., 22., 19., 13.],\n",
       "        [14., 12., 18., 18., 13.],\n",
       "        [ 0.,  5., 20., 77., 52.],\n",
       "        [12., 15., 15., 14., 18.]]),\n",
       " array([0.  , 0.75, 1.5 , 2.25, 3.  ]),\n",
       " array([ 0.10018754,  4.8785538 ,  9.65692005, 14.43528631, 19.21365257,\n",
       "        23.99201882]))"
      ]
     },
     "execution_count": 104,
     "metadata": {},
     "output_type": "execute_result"
    }
   ],
   "source": [
    "obs = np.histogram2d(names, times, bins=(4, 5))\n",
    "obs"
   ]
  },
  {
   "cell_type": "markdown",
   "metadata": {},
   "source": [
    "Применяем критерий хи-квадрат"
   ]
  },
  {
   "cell_type": "code",
   "execution_count": 105,
   "metadata": {},
   "outputs": [
    {
     "data": {
      "text/plain": [
       "0.0"
      ]
     },
     "execution_count": 105,
     "metadata": {},
     "output_type": "execute_result"
    }
   ],
   "source": [
    "chi2, p, dof, expected = sps.chi2_contingency(obs[0])\n",
    "(expected < 5).mean()"
   ]
  },
  {
   "cell_type": "markdown",
   "metadata": {},
   "source": [
    "Можно применять, хорошо. Теперь посмотрим на статистику и pvalue"
   ]
  },
  {
   "cell_type": "code",
   "execution_count": 106,
   "metadata": {},
   "outputs": [
    {
     "data": {
      "text/plain": [
       "(94.0425233612206, 8.107242179785724e-15)"
      ]
     },
     "execution_count": 106,
     "metadata": {},
     "output_type": "execute_result"
    }
   ],
   "source": [
    "chi2, p"
   ]
  },
  {
   "cell_type": "markdown",
   "metadata": {},
   "source": [
    "Гипотеза о независимости отвергается, то есть эти выборки статистически значимо зависимы. Зависимость также подтверждает график с KDE."
   ]
  },
  {
   "cell_type": "markdown",
   "metadata": {},
   "source": [
    "## Задача 4"
   ]
  },
  {
   "cell_type": "code",
   "execution_count": 128,
   "metadata": {},
   "outputs": [
    {
     "data": {
      "text/plain": [
       "(10, 100)"
      ]
     },
     "execution_count": 128,
     "metadata": {},
     "output_type": "execute_result"
    }
   ],
   "source": [
    "data = np.load('hw5t4.npy')\n",
    "data.shape"
   ]
  },
  {
   "cell_type": "markdown",
   "metadata": {},
   "source": [
    "Для проверки гипотезы о независимости выборок в совокупности, посчитаем коеффициент конкордации Кендалла"
   ]
  },
  {
   "cell_type": "code",
   "execution_count": 130,
   "metadata": {},
   "outputs": [
    {
     "data": {
      "text/plain": [
       "0.08104818481848185"
      ]
     },
     "execution_count": 130,
     "metadata": {},
     "output_type": "execute_result"
    }
   ],
   "source": [
    "k, n = data.shape\n",
    "W = 12 / (k ** 2 * (n ** 3 - n)) * np.sum((data.argsort(axis=1).sum(axis=0) - k * (n + 1) / 2) ** 2)\n",
    "W"
   ]
  },
  {
   "cell_type": "markdown",
   "metadata": {},
   "source": [
    "Коеффициент получился довольно небольшим, поэтому зависимость не очень явная"
   ]
  },
  {
   "cell_type": "code",
   "execution_count": 133,
   "metadata": {
    "collapsed": true
   },
   "outputs": [],
   "source": [
    "data = pd.DataFrame(data)"
   ]
  },
  {
   "cell_type": "markdown",
   "metadata": {},
   "source": [
    "Посмотрим на матрицу корреляций"
   ]
  },
  {
   "cell_type": "code",
   "execution_count": 136,
   "metadata": {},
   "outputs": [
    {
     "data": {
      "text/html": [
       "<div>\n",
       "<style>\n",
       "    .dataframe thead tr:only-child th {\n",
       "        text-align: right;\n",
       "    }\n",
       "\n",
       "    .dataframe thead th {\n",
       "        text-align: left;\n",
       "    }\n",
       "\n",
       "    .dataframe tbody tr th {\n",
       "        vertical-align: top;\n",
       "    }\n",
       "</style>\n",
       "<table border=\"1\" class=\"dataframe\">\n",
       "  <thead>\n",
       "    <tr style=\"text-align: right;\">\n",
       "      <th></th>\n",
       "      <th>0</th>\n",
       "      <th>1</th>\n",
       "      <th>2</th>\n",
       "      <th>3</th>\n",
       "      <th>4</th>\n",
       "      <th>5</th>\n",
       "      <th>6</th>\n",
       "      <th>7</th>\n",
       "      <th>8</th>\n",
       "      <th>9</th>\n",
       "      <th>...</th>\n",
       "      <th>90</th>\n",
       "      <th>91</th>\n",
       "      <th>92</th>\n",
       "      <th>93</th>\n",
       "      <th>94</th>\n",
       "      <th>95</th>\n",
       "      <th>96</th>\n",
       "      <th>97</th>\n",
       "      <th>98</th>\n",
       "      <th>99</th>\n",
       "    </tr>\n",
       "  </thead>\n",
       "  <tbody>\n",
       "    <tr>\n",
       "      <th>0</th>\n",
       "      <td>1.000000</td>\n",
       "      <td>0.139394</td>\n",
       "      <td>0.684848</td>\n",
       "      <td>0.418182</td>\n",
       "      <td>0.103030</td>\n",
       "      <td>-0.563636</td>\n",
       "      <td>-0.309091</td>\n",
       "      <td>-0.696970</td>\n",
       "      <td>0.018182</td>\n",
       "      <td>0.151515</td>\n",
       "      <td>...</td>\n",
       "      <td>0.042424</td>\n",
       "      <td>0.200000</td>\n",
       "      <td>0.103030</td>\n",
       "      <td>-0.600000</td>\n",
       "      <td>-0.418182</td>\n",
       "      <td>0.345455</td>\n",
       "      <td>0.175758</td>\n",
       "      <td>-0.551515</td>\n",
       "      <td>-0.212121</td>\n",
       "      <td>0.454545</td>\n",
       "    </tr>\n",
       "    <tr>\n",
       "      <th>1</th>\n",
       "      <td>0.139394</td>\n",
       "      <td>1.000000</td>\n",
       "      <td>-0.042424</td>\n",
       "      <td>-0.200000</td>\n",
       "      <td>-0.103030</td>\n",
       "      <td>-0.369697</td>\n",
       "      <td>-0.200000</td>\n",
       "      <td>0.272727</td>\n",
       "      <td>0.090909</td>\n",
       "      <td>-0.272727</td>\n",
       "      <td>...</td>\n",
       "      <td>0.490909</td>\n",
       "      <td>0.260606</td>\n",
       "      <td>0.309091</td>\n",
       "      <td>-0.515152</td>\n",
       "      <td>-0.333333</td>\n",
       "      <td>0.090909</td>\n",
       "      <td>0.030303</td>\n",
       "      <td>0.042424</td>\n",
       "      <td>-0.612121</td>\n",
       "      <td>-0.030303</td>\n",
       "    </tr>\n",
       "    <tr>\n",
       "      <th>2</th>\n",
       "      <td>0.684848</td>\n",
       "      <td>-0.042424</td>\n",
       "      <td>1.000000</td>\n",
       "      <td>0.442424</td>\n",
       "      <td>0.090909</td>\n",
       "      <td>-0.490909</td>\n",
       "      <td>-0.163636</td>\n",
       "      <td>-0.709091</td>\n",
       "      <td>-0.006061</td>\n",
       "      <td>0.103030</td>\n",
       "      <td>...</td>\n",
       "      <td>-0.103030</td>\n",
       "      <td>0.260606</td>\n",
       "      <td>-0.030303</td>\n",
       "      <td>-0.587879</td>\n",
       "      <td>0.006061</td>\n",
       "      <td>0.612121</td>\n",
       "      <td>0.212121</td>\n",
       "      <td>-0.515152</td>\n",
       "      <td>0.163636</td>\n",
       "      <td>0.648485</td>\n",
       "    </tr>\n",
       "    <tr>\n",
       "      <th>3</th>\n",
       "      <td>0.418182</td>\n",
       "      <td>-0.200000</td>\n",
       "      <td>0.442424</td>\n",
       "      <td>1.000000</td>\n",
       "      <td>-0.260606</td>\n",
       "      <td>-0.551515</td>\n",
       "      <td>0.272727</td>\n",
       "      <td>-0.430303</td>\n",
       "      <td>-0.309091</td>\n",
       "      <td>0.175758</td>\n",
       "      <td>...</td>\n",
       "      <td>0.151515</td>\n",
       "      <td>-0.187879</td>\n",
       "      <td>-0.296970</td>\n",
       "      <td>-0.030303</td>\n",
       "      <td>-0.066667</td>\n",
       "      <td>0.466667</td>\n",
       "      <td>0.042424</td>\n",
       "      <td>-0.381818</td>\n",
       "      <td>-0.187879</td>\n",
       "      <td>0.139394</td>\n",
       "    </tr>\n",
       "    <tr>\n",
       "      <th>4</th>\n",
       "      <td>0.103030</td>\n",
       "      <td>-0.103030</td>\n",
       "      <td>0.090909</td>\n",
       "      <td>-0.260606</td>\n",
       "      <td>1.000000</td>\n",
       "      <td>0.515152</td>\n",
       "      <td>-0.854545</td>\n",
       "      <td>-0.260606</td>\n",
       "      <td>0.418182</td>\n",
       "      <td>-0.454545</td>\n",
       "      <td>...</td>\n",
       "      <td>0.151515</td>\n",
       "      <td>0.466667</td>\n",
       "      <td>-0.272727</td>\n",
       "      <td>-0.236364</td>\n",
       "      <td>-0.127273</td>\n",
       "      <td>-0.381818</td>\n",
       "      <td>-0.127273</td>\n",
       "      <td>0.078788</td>\n",
       "      <td>0.345455</td>\n",
       "      <td>-0.284848</td>\n",
       "    </tr>\n",
       "  </tbody>\n",
       "</table>\n",
       "<p>5 rows × 100 columns</p>\n",
       "</div>"
      ],
      "text/plain": [
       "         0         1         2         3         4         5         6   \\\n",
       "0  1.000000  0.139394  0.684848  0.418182  0.103030 -0.563636 -0.309091   \n",
       "1  0.139394  1.000000 -0.042424 -0.200000 -0.103030 -0.369697 -0.200000   \n",
       "2  0.684848 -0.042424  1.000000  0.442424  0.090909 -0.490909 -0.163636   \n",
       "3  0.418182 -0.200000  0.442424  1.000000 -0.260606 -0.551515  0.272727   \n",
       "4  0.103030 -0.103030  0.090909 -0.260606  1.000000  0.515152 -0.854545   \n",
       "\n",
       "         7         8         9     ...           90        91        92  \\\n",
       "0 -0.696970  0.018182  0.151515    ...     0.042424  0.200000  0.103030   \n",
       "1  0.272727  0.090909 -0.272727    ...     0.490909  0.260606  0.309091   \n",
       "2 -0.709091 -0.006061  0.103030    ...    -0.103030  0.260606 -0.030303   \n",
       "3 -0.430303 -0.309091  0.175758    ...     0.151515 -0.187879 -0.296970   \n",
       "4 -0.260606  0.418182 -0.454545    ...     0.151515  0.466667 -0.272727   \n",
       "\n",
       "         93        94        95        96        97        98        99  \n",
       "0 -0.600000 -0.418182  0.345455  0.175758 -0.551515 -0.212121  0.454545  \n",
       "1 -0.515152 -0.333333  0.090909  0.030303  0.042424 -0.612121 -0.030303  \n",
       "2 -0.587879  0.006061  0.612121  0.212121 -0.515152  0.163636  0.648485  \n",
       "3 -0.030303 -0.066667  0.466667  0.042424 -0.381818 -0.187879  0.139394  \n",
       "4 -0.236364 -0.127273 -0.381818 -0.127273  0.078788  0.345455 -0.284848  \n",
       "\n",
       "[5 rows x 100 columns]"
      ]
     },
     "execution_count": 136,
     "metadata": {},
     "output_type": "execute_result"
    }
   ],
   "source": [
    "R = data.corr(method='spearman')\n",
    "R.head(5)"
   ]
  },
  {
   "cell_type": "code",
   "execution_count": 157,
   "metadata": {
    "collapsed": true
   },
   "outputs": [],
   "source": [
    "top_5_max = np.array([0., 0., 0., 0., 0.])\n",
    "indeces = np.array([(0, 0), (0,0), (0,0), (0,0), (0,0)])\n",
    "for i in range(len(R)):\n",
    "    for j in range(i+1, len(R)):\n",
    "        if np.abs(R[i][j]) > np.min(top_5_max):\n",
    "            cond = np.where(top_5_max == np.min(top_5_max))[0][0]\n",
    "            top_5_max[cond] = np.abs(R[i][j])\n",
    "            indeces[cond] = (i,j)"
   ]
  },
  {
   "cell_type": "code",
   "execution_count": 156,
   "metadata": {},
   "outputs": [
    {
     "data": {
      "text/plain": [
       "array([0.95151515, 0.96363636, 0.9030303 , 0.9030303 , 0.93939394])"
      ]
     },
     "execution_count": 156,
     "metadata": {},
     "output_type": "execute_result"
    }
   ],
   "source": [
    "top_5_max"
   ]
  },
  {
   "cell_type": "markdown",
   "metadata": {},
   "source": [
    "Посмотрим какие пары признаков оказались самыми коррелированными между собой."
   ]
  },
  {
   "cell_type": "code",
   "execution_count": 159,
   "metadata": {},
   "outputs": [
    {
     "data": {
      "text/plain": [
       "array([[66, 99],\n",
       "       [22, 36],\n",
       "       [40, 86],\n",
       "       [19, 48],\n",
       "       [47, 96]])"
      ]
     },
     "execution_count": 159,
     "metadata": {},
     "output_type": "execute_result"
    }
   ],
   "source": [
    "indeces"
   ]
  }
 ],
 "metadata": {
  "kernelspec": {
   "display_name": "Python 3",
   "language": "python",
   "name": "python3"
  },
  "language_info": {
   "codemirror_mode": {
    "name": "ipython",
    "version": 3
   },
   "file_extension": ".py",
   "mimetype": "text/x-python",
   "name": "python",
   "nbconvert_exporter": "python",
   "pygments_lexer": "ipython3",
   "version": "3.6.3"
  }
 },
 "nbformat": 4,
 "nbformat_minor": 2
}
