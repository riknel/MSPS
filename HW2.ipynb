{
 "cells": [
  {
   "cell_type": "markdown",
   "metadata": {},
   "source": [
    "## Кириленко Елена, 594\n",
    "\n"
   ]
  },
  {
   "cell_type": "markdown",
   "metadata": {},
   "source": [
    "## Задача 1\n",
    "\n",
    "$X_1, ..., X_n \\sim N(\\theta, 1)$ <br>\n",
    "$H_0: \\theta = 0$ <br>\n",
    "$H_0: \\theta \\ne 0$ <br>\n",
    "\n",
    "Решение: <br>\n",
    "Для начала научимся строить рнмк для $H_0: \\theta = 0\\; vs\\; H_1: \\theta > 0$ <br>\n",
    "Воспользуемся теоремой о монотонном отношении правдоподобия<br>\n",
    "$$\\frac{f_{\\theta_1}(X)}{f_{\\theta_1}(X)} =  \\frac{\\prod e ^{-\\frac{X_i - \\theta_1}{2}}}{\\prod e ^{-\\frac{X_i - \\theta_2}{2}}} = e^ {\\sum{x_i} (\\theta_1 - \\theta_2) + \\frac{n}{2}({\\theta_2}^2 - {\\theta_1}^2)} = |T(X) = \\sum X_i| = e^ {T(X) (\\theta_1 - \\theta_2) + \\frac{n}{2}({\\theta_2}^2 - {\\theta_1}^2)}$$<br>\n",
    "Полученное выражение неубывает по $T(X) = \\sum{X_i}$ при $\\theta_1 > \\theta_2$. <br>\n",
    "При этом $\\sum X_i \\sim N(0, n)$  $\\Rightarrow P(T(X) >= c_{\\alpha}) = P((\\sum X_i >= c_{\\alpha}) $<br>\n",
    "Тогда $P(\\frac{\\sum X_i}{\\sqrt n} >= \\frac{c_{\\alpha}}{\\sqrt n}) = \\alpha \\Rightarrow \\frac{c_{\\alpha}}{\\sqrt n}$ - $(1-\\alpha)-$квантиль распределения $N(0, 1)$ <br>\n",
    "По теореме о монотонном отношении правдоподобия получим, что $S_1 = (\\sum X_i >= \\sqrt n u _{1 - \\alpha})$ - рнмк уровня доверия $\\alpha$\n",
    "<br>\n",
    "Аналогично получим, что рнмк для $H_0: \\theta = 0\\; vs\\; H_1: \\theta < 0$ : $S_2 = (\\sum X_i < \\sqrt u_{\\alpha})$ - рнмк уровня доверия $\\alpha$. <br>\n",
    "\n",
    "<br>\n",
    "Тепепь заметим, что критерии $S_1$ и $S_2$ не пересекаются, а следовательно вер-ть попадения в обединение равна $2\\alpha$.  То есть $S_1 \\cup S_2$ - рнмк уровня доверия $2\\alpha$.<br>\n",
    "\n",
    "\n",
    "\n"
   ]
  },
  {
   "cell_type": "markdown",
   "metadata": {
    "collapsed": true
   },
   "source": [
    "## Задача 2\n"
   ]
  },
  {
   "cell_type": "markdown",
   "metadata": {},
   "source": [
    "Для начала поймем как интерпретировать задачу: для каждого лекарства мы проводим серию экспериментов и для каждого пациаента выдаем ответ - есть осложнения или нет. Таким образом, мы имеем выборку из берннулиевского распределения с некоторым параметром p, который можно оценить разделив кол-во осложнений на кол-во пациентов. <br>\n",
    "Проверяем гипотезы: <br>\n",
    "$H_0: p_i < p_{placebo}$ - лекарство i лучше<br>\n",
    "$H_0: p_i >= p_{placebo}$ - лекарство i лучше<br>\n",
    "Оценка p: $$p^* = \\frac{count \\;patients}{count\\; complications}$$ <br>\n",
    "Тогда оценка дисперсии: $$DX_1 = p^* (1 - p^*)$$ <br>\n",
    "Получим статистику:\n",
    "$$T(X) =\\frac{\\sum_{i=0}^n X_i - np_{placebo}}{\\sqrt{n (p^* (1 - p^*))}} \\sim N(0, 1)$$ <br>\n",
    "Если $|T(X)| > u_{1-\\alpha/2}$, то гипотеза $H_0$ отвергается, иначе $H_0$ принимается. Проводим тест с уровнем значимости $\\alpha = 0.05$"
   ]
  },
  {
   "cell_type": "code",
   "execution_count": 1,
   "metadata": {
    "collapsed": true
   },
   "outputs": [],
   "source": [
    "import numpy as np\n",
    "import scipy.stats as sps"
   ]
  },
  {
   "cell_type": "code",
   "execution_count": 9,
   "metadata": {},
   "outputs": [
    {
     "name": "stdout",
     "output_type": "stream",
     "text": [
      "[0.         3.92758596 0.93197796 0.65732002 2.3654518 ]\n"
     ]
    }
   ],
   "source": [
    "patient = np.array([80, 75, 85, 67, 85])\n",
    "complications = np.array([45, 26, 52, 35, 37])\n",
    "p_placebo = 45. / 80.\n",
    "p = complications / patient\n",
    " \n",
    "T = np.abs(complications - patient * p_placebo) / (np.sqrt(patient * (p - p**2)))\n",
    "print(T)"
   ]
  },
  {
   "cell_type": "markdown",
   "metadata": {},
   "source": [
    "Берем квантили и сравнмваем"
   ]
  },
  {
   "cell_type": "code",
   "execution_count": 10,
   "metadata": {},
   "outputs": [
    {
     "data": {
      "text/plain": [
       "array([False,  True, False, False,  True])"
      ]
     },
     "execution_count": 10,
     "metadata": {},
     "output_type": "execute_result"
    }
   ],
   "source": [
    "u = sps.norm.ppf(1-0.05 / 2)\n",
    "T > u"
   ]
  },
  {
   "cell_type": "markdown",
   "metadata": {},
   "source": [
    "Получаем, что гипотезы про то, что Dimenhydrinate и Pentobarbital (100 mg) лучше, чем Placebo отвергаются, а аналогичные гипотезы для Chlorpromazine и Pentobarbital (150 mg) не отвергаются."
   ]
  },
  {
   "cell_type": "markdown",
   "metadata": {},
   "source": [
    "## Задача 3"
   ]
  },
  {
   "cell_type": "markdown",
   "metadata": {},
   "source": [
    "$H_0 : X \\sim Geom(p)$<br>\n",
    "$H_1 : X \\sim Pois(\\lambda)$<br>\n",
    "\n",
    "Априорные распределения для геометрического и пуассоновского берем равными $p\\sim U[0,1]$ и $\\lambda\\sim U[0, 12]$<br>\n",
    "Рассматриваем статистику $$K = \\frac{\\int_{0 < p <=1}f_1(X, p) q_1(p)}{\\int_{\\lambda >0}f_2(X, \\lambda) q_2(\\lambda)}$$\n",
    " <br>\n",
    "Интеграл будем считать как среднее значение подынтегральной функции. <br>\n",
    "Так же заметим, что у нас будут получаться очень маленькие значения, поэтому вместо функции правдоподобие f будем исползовать ln(f) (поэтому произведение правдоподобий замениться на сумму). <br>"
   ]
  },
  {
   "cell_type": "code",
   "execution_count": 14,
   "metadata": {},
   "outputs": [],
   "source": [
    "X = np.load('data2.3.npy')"
   ]
  },
  {
   "cell_type": "markdown",
   "metadata": {},
   "source": [
    "Считаем первый интеграл"
   ]
  },
  {
   "cell_type": "code",
   "execution_count": 24,
   "metadata": {},
   "outputs": [],
   "source": [
    "ps = np.linspace(0.01, 0.99, 100)\n",
    "K_1 = []\n",
    "for p in ps:\n",
    "    K_1.append(np.sum([np.log(sps.geom(p=p).pmf(X[i]) / 1) for i in range(len(X))]))\n",
    "\n",
    "K_1 = np.mean(np.array(K_1))"
   ]
  },
  {
   "cell_type": "code",
   "execution_count": 25,
   "metadata": {},
   "outputs": [
    {
     "data": {
      "text/plain": [
       "-2051.563281401513"
      ]
     },
     "execution_count": 25,
     "metadata": {},
     "output_type": "execute_result"
    }
   ],
   "source": [
    "K_1"
   ]
  },
  {
   "cell_type": "markdown",
   "metadata": {},
   "source": [
    "Считаем второй"
   ]
  },
  {
   "cell_type": "code",
   "execution_count": 28,
   "metadata": {
    "collapsed": true
   },
   "outputs": [],
   "source": [
    "lambdas = np.linspace(0.01, 12, 100)\n",
    "K_2 = []\n",
    "for lambd in lambdas:\n",
    "    K_2.append(np.sum([np.log(sps.poisson(mu=lambd).pmf(X[i]) / 12)  for i in range(len(X))]))\n",
    "\n",
    "K_2 = np.mean(np.array(K_2))"
   ]
  },
  {
   "cell_type": "code",
   "execution_count": 29,
   "metadata": {},
   "outputs": [
    {
     "data": {
      "text/plain": [
       "-2140.8255247052493"
      ]
     },
     "execution_count": 29,
     "metadata": {},
     "output_type": "execute_result"
    }
   ],
   "source": [
    "K_2"
   ]
  },
  {
   "cell_type": "markdown",
   "metadata": {},
   "source": [
    "Находим статистику K"
   ]
  },
  {
   "cell_type": "code",
   "execution_count": 34,
   "metadata": {},
   "outputs": [
    {
     "name": "stdout",
     "output_type": "stream",
     "text": [
      "5.8357907207193274e+38\n"
     ]
    }
   ],
   "source": [
    "K = np.exp(K_1 - K_2)\n",
    "print(K)"
   ]
  },
  {
   "cell_type": "markdown",
   "metadata": {},
   "source": [
    "Получили статистику K < 3, поэтому из шкалы Джофри: Про верность $H_0$ нельзя ничего определенно сказать. "
   ]
  }
 ],
 "metadata": {
  "kernelspec": {
   "display_name": "Python 3",
   "language": "python",
   "name": "python3"
  },
  "language_info": {
   "codemirror_mode": {
    "name": "ipython",
    "version": 3
   },
   "file_extension": ".py",
   "mimetype": "text/x-python",
   "name": "python",
   "nbconvert_exporter": "python",
   "pygments_lexer": "ipython3",
   "version": "3.6.3"
  }
 },
 "nbformat": 4,
 "nbformat_minor": 2
}
