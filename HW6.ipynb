{
 "cells": [
  {
   "cell_type": "markdown",
   "metadata": {},
   "source": [
    "## Задача 2"
   ]
  },
  {
   "cell_type": "code",
   "execution_count": 191,
   "metadata": {
    "collapsed": true
   },
   "outputs": [],
   "source": [
    "import numpy as np\n",
    "import pandas as pd\n",
    "import scipy.stats as sps\n",
    "import matplotlib.pyplot as plt\n",
    "import seaborn as sns\n",
    "from tqdm import tqdm\n",
    "from statsmodels.sandbox.stats.multicomp import multipletests\n",
    "\n",
    "%matplotlib inline"
   ]
  },
  {
   "cell_type": "code",
   "execution_count": 120,
   "metadata": {},
   "outputs": [],
   "source": [
    "data = np.load('hw6t2.npy')\n",
    "X = data[:,0]\n",
    "Y = data[:,1]"
   ]
  },
  {
   "cell_type": "markdown",
   "metadata": {},
   "source": [
    "Сначала посмотрим на графики"
   ]
  },
  {
   "cell_type": "code",
   "execution_count": 121,
   "metadata": {},
   "outputs": [
    {
     "name": "stderr",
     "output_type": "stream",
     "text": [
      "/anaconda/lib/python3.6/site-packages/matplotlib/axes/_axes.py:6448: UserWarning: The 'normed' kwarg is deprecated, and has been replaced by the 'density' kwarg.\n",
      "  warnings.warn(\"The 'normed' kwarg is deprecated, and has been \"\n"
     ]
    },
    {
     "data": {
      "image/png": "[encoded data removed]",
      "text/plain": [
       "<Figure size 1152x360 with 3 Axes>"
      ]
     },
     "metadata": {},
     "output_type": "display_data"
    }
   ],
   "source": [
    "plt.figure(figsize=(16, 5))\n",
    "plt.subplot(1, 3, 1)\n",
    "plt.scatter(X, Y, alpha=0.5, s=10)\n",
    "plt.axis('equal')\n",
    "plt.title('(X, Y)', fontsize=16)\n",
    "\n",
    "plt.subplot(1, 3, 2)\n",
    "plt.hist(X, bins=10, normed=True)\n",
    "plt.title('X', fontsize=16)\n",
    "\n",
    "plt.subplot(1, 3, 3)\n",
    "plt.hist(Y, bins=10, normed=True)\n",
    "plt.title('Y', fontsize=16)\n",
    "plt.show()"
   ]
  },
  {
   "cell_type": "markdown",
   "metadata": {},
   "source": [
    "Судя по графику, распределения выборок не очень похожи."
   ]
  },
  {
   "cell_type": "markdown",
   "metadata": {},
   "source": [
    "Видим, что выборки не похожи на нормальные, поэтому t-тест не подойдет."
   ]
  },
  {
   "cell_type": "markdown",
   "metadata": {},
   "source": [
    "Сначала проверим выборки на независимость. Это нужно для применения критерия Уилкоксона-Манна-Уитни и критерия Смирнова"
   ]
  },
  {
   "cell_type": "code",
   "execution_count": 122,
   "metadata": {},
   "outputs": [
    {
     "name": "stdout",
     "output_type": "stream",
     "text": [
      "KendalltauResult(correlation=0.0492929292929293, pvalue=0.46743395879054583)\n"
     ]
    }
   ],
   "source": [
    "print(sps.kendalltau(X, Y))"
   ]
  },
  {
   "cell_type": "markdown",
   "metadata": {},
   "source": [
    "Гипотеза о независимости не отвергается"
   ]
  },
  {
   "cell_type": "markdown",
   "metadata": {},
   "source": [
    "Проверим выборки на однородность при помощи критерия Уилкоксона-Манна-Уитни. Преполагаем, что мы имеем дело с независимыми выбрками и кроме того длина выборок равна 100."
   ]
  },
  {
   "cell_type": "code",
   "execution_count": 123,
   "metadata": {},
   "outputs": [
    {
     "name": "stdout",
     "output_type": "stream",
     "text": [
      "MannwhitneyuResult(statistic=5936.0, pvalue=0.022264422023824646)\n"
     ]
    }
   ],
   "source": [
    "print(sps.mannwhitneyu(X, Y, alternative='two-sided'))"
   ]
  },
  {
   "cell_type": "markdown",
   "metadata": {},
   "source": [
    "При помощи критерия Смирнова"
   ]
  },
  {
   "cell_type": "code",
   "execution_count": 124,
   "metadata": {},
   "outputs": [
    {
     "name": "stdout",
     "output_type": "stream",
     "text": [
      "Ks_2sampResult(statistic=0.18, pvalue=0.06909243488939824)\n"
     ]
    }
   ],
   "source": [
    "print(sps.ks_2samp(X, Y))"
   ]
  },
  {
   "cell_type": "markdown",
   "metadata": {},
   "source": [
    "Теперь загоним полученные результаты в множественную проверку гипотез"
   ]
  },
  {
   "cell_type": "code",
   "execution_count": 125,
   "metadata": {},
   "outputs": [
    {
     "data": {
      "text/plain": [
       "(array([False, False, False]),\n",
       " array([0.46743396, 0.06679327, 0.13818487]),\n",
       " 0.016952427508441503,\n",
       " 0.016666666666666666)"
      ]
     },
     "execution_count": 125,
     "metadata": {},
     "output_type": "execute_result"
    }
   ],
   "source": [
    "multipletests([sps.kendalltau(X, Y)[1], sps.mannwhitneyu(X, Y, alternative='two-sided')[1], sps.ks_2samp(X, Y)[1]], alpha=0.05, method='holm')"
   ]
  },
  {
   "cell_type": "markdown",
   "metadata": {},
   "source": [
    "Таким образом, получили, что гипотеза о независимости не отвергается и гипотеза об однородности не отвергается "
   ]
  },
  {
   "cell_type": "code",
   "execution_count": null,
   "metadata": {
    "collapsed": true
   },
   "outputs": [],
   "source": []
  },
  {
   "cell_type": "markdown",
   "metadata": {},
   "source": [
    "## Задача 3"
   ]
  },
  {
   "cell_type": "code",
   "execution_count": 208,
   "metadata": {},
   "outputs": [
    {
     "data": {
      "text/html": [
       "<div>\n",
       "<style>\n",
       "    .dataframe thead tr:only-child th {\n",
       "        text-align: right;\n",
       "    }\n",
       "\n",
       "    .dataframe thead th {\n",
       "        text-align: left;\n",
       "    }\n",
       "\n",
       "    .dataframe tbody tr th {\n",
       "        vertical-align: top;\n",
       "    }\n",
       "</style>\n",
       "<table border=\"1\" class=\"dataframe\">\n",
       "  <thead>\n",
       "    <tr style=\"text-align: right;\">\n",
       "      <th></th>\n",
       "      <th>Before</th>\n",
       "      <th>After</th>\n",
       "    </tr>\n",
       "  </thead>\n",
       "  <tbody>\n",
       "    <tr>\n",
       "      <th>0</th>\n",
       "      <td>80.5</td>\n",
       "      <td>82.2</td>\n",
       "    </tr>\n",
       "    <tr>\n",
       "      <th>1</th>\n",
       "      <td>84.9</td>\n",
       "      <td>85.6</td>\n",
       "    </tr>\n",
       "    <tr>\n",
       "      <th>2</th>\n",
       "      <td>81.5</td>\n",
       "      <td>81.4</td>\n",
       "    </tr>\n",
       "    <tr>\n",
       "      <th>3</th>\n",
       "      <td>82.6</td>\n",
       "      <td>81.9</td>\n",
       "    </tr>\n",
       "    <tr>\n",
       "      <th>4</th>\n",
       "      <td>79.9</td>\n",
       "      <td>76.4</td>\n",
       "    </tr>\n",
       "  </tbody>\n",
       "</table>\n",
       "</div>"
      ],
      "text/plain": [
       "   Before  After\n",
       "0    80.5   82.2\n",
       "1    84.9   85.6\n",
       "2    81.5   81.4\n",
       "3    82.6   81.9\n",
       "4    79.9   76.4"
      ]
     },
     "execution_count": 208,
     "metadata": {},
     "output_type": "execute_result"
    }
   ],
   "source": [
    "data = pd.read_csv('weight.txt', sep='\\t')\n",
    "X = np.array(data.iloc[:,0])\n",
    "Y = np.array(data.iloc[:,1])\n",
    "data.head()"
   ]
  },
  {
   "cell_type": "markdown",
   "metadata": {},
   "source": [
    "Сначала проверим выборку разниц на симметричность. Для этого, как было сказано в лекции, построим график $(-V_{(i)} + \\mu, V_{(i)} - \\mu)$, где $i = 1, ..., [\\frac{n}{2}]$ и если полученный график приближается прямой y=x, то можно считать, что распределение симметрично"
   ]
  },
  {
   "cell_type": "code",
   "execution_count": 209,
   "metadata": {},
   "outputs": [
    {
     "data": {
      "image/png": "[encoded data removed]",
      "text/plain": [
       "<Figure size 1080x360 with 1 Axes>"
      ]
     },
     "metadata": {},
     "output_type": "display_data"
    }
   ],
   "source": [
    "V = X - Y\n",
    "mu = np.median(V)\n",
    "n = len(V)\n",
    "\n",
    "plt.figure(figsize=(15, 5))\n",
    "plt.scatter(-np.sort(V)[:int(n/2)+1] + mu, np.flip(np.sort(V), axis=0)[:int(n/2)+1] - mu)\n",
    "plt.plot(np.arange(0, 20), np.arange(0, 20), color='r')\n",
    "plt.show()"
   ]
  },
  {
   "cell_type": "markdown",
   "metadata": {},
   "source": [
    "Распределение не похоже на симметричное, поэтому критерий знаковых рангов Уилкоксона не подойдет."
   ]
  },
  {
   "cell_type": "markdown",
   "metadata": {},
   "source": [
    "Проверим выборки на нормальность."
   ]
  },
  {
   "cell_type": "code",
   "execution_count": 210,
   "metadata": {},
   "outputs": [
    {
     "name": "stdout",
     "output_type": "stream",
     "text": [
      "(0.9699368476867676, 0.5579800605773926)\n",
      "(0.9519608616828918, 0.20574407279491425)\n"
     ]
    }
   ],
   "source": [
    "print(sps.shapiro(X))\n",
    "print(sps.shapiro(Y))"
   ]
  },
  {
   "cell_type": "markdown",
   "metadata": {},
   "source": [
    "Гипотеза о нормальности не отвергается. Проверим выборки на независимость"
   ]
  },
  {
   "cell_type": "code",
   "execution_count": 211,
   "metadata": {},
   "outputs": [
    {
     "name": "stdout",
     "output_type": "stream",
     "text": [
      "KendalltauResult(correlation=0.4573579036177395, pvalue=0.0005164530410263133)\n"
     ]
    }
   ],
   "source": [
    "print(sps.kendalltau(X, Y))"
   ]
  },
  {
   "cell_type": "markdown",
   "metadata": {},
   "source": [
    "Проверим выборки на равенство дисперсий с помощью F-критерия"
   ]
  },
  {
   "cell_type": "code",
   "execution_count": 212,
   "metadata": {},
   "outputs": [
    {
     "name": "stdout",
     "output_type": "stream",
     "text": [
      "0.9977440754166822\n"
     ]
    }
   ],
   "source": [
    "F = np.var(X) / np.var(Y)\n",
    "p = 1 -sps.f.cdf(F, len(X), len(Y))\n",
    "print(p)"
   ]
  },
  {
   "cell_type": "markdown",
   "metadata": {},
   "source": [
    "Теперь проверим гипотезу об отсутствии эффекта с помощью парного  t-теста"
   ]
  },
  {
   "cell_type": "code",
   "execution_count": 213,
   "metadata": {},
   "outputs": [
    {
     "name": "stdout",
     "output_type": "stream",
     "text": [
      "Ttest_relResult(statistic=-2.215587843931166, pvalue=0.03502259756218883)\n"
     ]
    }
   ],
   "source": [
    "print(sps.ttest_rel(X, Y))"
   ]
  },
  {
   "cell_type": "markdown",
   "metadata": {},
   "source": [
    "До этого момента мы не контролировали FWER, поэтому загоним все в множественную проверку"
   ]
  },
  {
   "cell_type": "code",
   "execution_count": 216,
   "metadata": {},
   "outputs": [
    {
     "data": {
      "text/plain": [
       "(0.5579800605773926,\n",
       " 0.20574407279491425,\n",
       " 0.0005164530410263133,\n",
       " 0.9977440754166822,\n",
       " 0.03502259756218883)"
      ]
     },
     "execution_count": 216,
     "metadata": {},
     "output_type": "execute_result"
    }
   ],
   "source": [
    "p1, p2, p3 = sps.shapiro(X)[1], sps.shapiro(Y)[1], sps.kendalltau(X, Y)[1]\n",
    "p4, p5 = 1-sps.f.cdf(F, len(X), len(Y)), sps.ttest_rel(X, Y)[1]\n",
    "p1, p2, p3, p4, p5"
   ]
  },
  {
   "cell_type": "code",
   "execution_count": 217,
   "metadata": {},
   "outputs": [
    {
     "data": {
      "text/plain": [
       "(array([False, False,  True, False, False]),\n",
       " array([1.        , 0.61723222, 0.00258227, 1.        , 0.14009039]),\n",
       " 0.010206218313011495,\n",
       " 0.01)"
      ]
     },
     "execution_count": 217,
     "metadata": {},
     "output_type": "execute_result"
    }
   ],
   "source": [
    "multipletests([p1, p2, p3, p4, p5], alpha=0.05, method='holm')"
   ]
  },
  {
   "cell_type": "markdown",
   "metadata": {},
   "source": [
    "ПОлучили, что не отвергаем гипотезу о нормальной распределенности двух выборок, отвергаем гипотезу о независимости и не отвергаем гипотезу об отсутствии эффекта."
   ]
  },
  {
   "cell_type": "markdown",
   "metadata": {},
   "source": [
    "## Задача 4"
   ]
  },
  {
   "cell_type": "code",
   "execution_count": 161,
   "metadata": {},
   "outputs": [],
   "source": [
    "data = np.load('hw6t4.npy')\n",
    "X = data[:,0]\n",
    "Y = data[:,1]"
   ]
  },
  {
   "cell_type": "markdown",
   "metadata": {},
   "source": [
    "Для начала проверим распределение выборки V = X - Y на симметричность. Это понадобиться нам впоследствии"
   ]
  },
  {
   "cell_type": "code",
   "execution_count": 162,
   "metadata": {},
   "outputs": [
    {
     "data": {
      "image/png": "[encoded data removed]",
      "text/plain": [
       "<Figure size 1080x576 with 1 Axes>"
      ]
     },
     "metadata": {},
     "output_type": "display_data"
    }
   ],
   "source": [
    "V = X - Y\n",
    "mu = np.median(V)\n",
    "n = len(V)\n",
    "\n",
    "plt.figure(figsize=(15, 8))\n",
    "plt.scatter(-np.sort(V)[:int(n/2)] + mu, np.flip(np.sort(V), axis=0)[:int(n/2)] - mu)\n",
    "plt.plot(np.linspace(0,3,10), np.linspace(0,3,10))\n",
    "plt.show()"
   ]
  },
  {
   "cell_type": "markdown",
   "metadata": {},
   "source": [
    "Проверим выборки на нормальность"
   ]
  },
  {
   "cell_type": "code",
   "execution_count": 165,
   "metadata": {},
   "outputs": [
    {
     "name": "stdout",
     "output_type": "stream",
     "text": [
      "(0.9765814542770386, 0.07177740335464478)\n",
      "(0.9240764379501343, 2.3313081328524277e-05)\n"
     ]
    }
   ],
   "source": [
    "print(sps.shapiro(X))\n",
    "print(sps.shapiro(Y))"
   ]
  },
  {
   "cell_type": "markdown",
   "metadata": {},
   "source": [
    "Теперь проверим выборки на независимость"
   ]
  },
  {
   "cell_type": "code",
   "execution_count": 166,
   "metadata": {},
   "outputs": [
    {
     "name": "stdout",
     "output_type": "stream",
     "text": [
      "KendalltauResult(correlation=0.05010101010101011, pvalue=0.46016634665415723)\n"
     ]
    }
   ],
   "source": [
    "print(sps.kendalltau(X, Y))"
   ]
  },
  {
   "cell_type": "markdown",
   "metadata": {},
   "source": [
    "Гипотеза о независимости на данном этапе отвергается"
   ]
  },
  {
   "cell_type": "markdown",
   "metadata": {},
   "source": [
    "Вспомним, что мы проверили выборку разниц на симметричность, поэтому можем применять критерий знаковых рангов Уилкоксона для проверки гипотезы об отсутствии эффекта."
   ]
  },
  {
   "cell_type": "code",
   "execution_count": 159,
   "metadata": {},
   "outputs": [
    {
     "name": "stdout",
     "output_type": "stream",
     "text": [
      "RanksumsResult(statistic=-1.5551297131093011, pvalue=0.11991517969944168)\n"
     ]
    }
   ],
   "source": [
    "print(sps.ranksums(X, Y))"
   ]
  },
  {
   "cell_type": "markdown",
   "metadata": {},
   "source": [
    "До этого мы никак не контролировали FDR, поэтому загоним в множественную проверку по методу Бенджамини-Иекутиели"
   ]
  },
  {
   "cell_type": "code",
   "execution_count": 180,
   "metadata": {},
   "outputs": [
    {
     "data": {
      "text/plain": [
       "(array([False,  True, False,  True]),\n",
       " array([1.88629909e-01, 9.71378389e-05, 1.00000000e+00, 8.07903338e-22]),\n",
       " 0.025996253574703254,\n",
       " 0.025)"
      ]
     },
     "execution_count": 180,
     "metadata": {},
     "output_type": "execute_result"
    }
   ],
   "source": [
    "p1, p2, p3, p4 = sps.shapiro(X)[1], sps.shapiro(Y)[1], sps.kendalltau(X, Y)[1], sps.ranksums(X, Y)[1]\n",
    "multipletests([p1, p2, p3, p4], alpha=0.1, method='fdr_by')"
   ]
  },
  {
   "cell_type": "markdown",
   "metadata": {},
   "source": [
    "Получили, что гипотеза о нормальности X не отвергается, гипотеза о нормальности Y отвергается, гипотеза о независимости X и Y не отвергается, гипотеза об отсутсвии эффекта не отвергается."
   ]
  },
  {
   "cell_type": "markdown",
   "metadata": {},
   "source": [
    "## Задача 5"
   ]
  },
  {
   "cell_type": "markdown",
   "metadata": {},
   "source": [
    "Заметим, что распределение Сьюдента $t_{10}$ очень похоже на нормальное. Проверим это критерием Шапиро-Уилка"
   ]
  },
  {
   "cell_type": "code",
   "execution_count": 192,
   "metadata": {},
   "outputs": [
    {
     "name": "stdout",
     "output_type": "stream",
     "text": [
      "(0.9968913793563843, 0.45722106099128723)\n",
      "NormaltestResult(statistic=0.5205936086507893, pvalue=0.7708227683164871)\n",
      "KstestResult(statistic=0.053463365953165476, pvalue=0.11064856389662991)\n"
     ]
    }
   ],
   "source": [
    "X = sps.t.rvs(df=10, size=500)\n",
    "print(sps.shapiro(X))\n",
    "print(sps.normaltest(X))\n",
    "print(sps.kstest(X, sps.norm.cdf))"
   ]
  },
  {
   "cell_type": "markdown",
   "metadata": {},
   "source": [
    "Проверим равенство дисперсий"
   ]
  },
  {
   "cell_type": "code",
   "execution_count": 203,
   "metadata": {},
   "outputs": [
    {
     "name": "stdout",
     "output_type": "stream",
     "text": [
      "0.9993817981847694\n"
     ]
    }
   ],
   "source": [
    "F = np.var(X) / np.var(Y)\n",
    "p = sps.f.cdf(F, len(X), len(Y))\n",
    "print(p)"
   ]
  },
  {
   "cell_type": "markdown",
   "metadata": {},
   "source": [
    "Гипотеза о нормальности не отвергается"
   ]
  },
  {
   "cell_type": "markdown",
   "metadata": {},
   "source": [
    "Теперь заметим, что критерий Стьюдента не требует строгой нормальности, а требует лишь того, чтоб выборка была похожа на нормальное. То есть критерий Сьюдента устойчив к отклонениям от нормальности. Поэтому в данном случае его можно применять"
   ]
  },
  {
   "cell_type": "code",
   "execution_count": 204,
   "metadata": {
    "collapsed": true
   },
   "outputs": [],
   "source": [
    "def perform_tests(test, distr, sizes, n_samples=10000, leave=False):\n",
    "    pvalues = np.zeros((len(sizes), n_samples))\n",
    "    for i in tqdm(range(len(sizes))):\n",
    "        sample1 = distr.rvs(size=(n_samples, sizes[i]))\n",
    "        sample2 = distr.rvs(size=(n_samples, sizes[i]))\n",
    "        sample_size = sample1.shape[-1]\n",
    "        S = np.sqrt((sample_size - 1)*(sample1.std(axis=-1)**2 + sample2.std(axis=-1)**2) / (2*sample_size - 2))\n",
    "        T = np.sqrt(sample_size / 2) * (sample1.mean(axis=-1) - sample2.mean(axis=-1)) / S\n",
    "        pvalues[i] = 2 * sps.t(df=sample_size-1).sf(np.abs(T))\n",
    "    return pvalues"
   ]
  },
  {
   "cell_type": "markdown",
   "metadata": {},
   "source": [
    "Посмотрим, как меняется реальный уровень значимости в зависимости от размера выборки.\n",
    "Для этого для каждого размера выборки сгенерируем очень много выборок такого размера из нулевой гипотезы и посчитаем долю случаев, в которых критерий отвергает основную гипотезу."
   ]
  },
  {
   "cell_type": "code",
   "execution_count": 205,
   "metadata": {},
   "outputs": [
    {
     "name": "stderr",
     "output_type": "stream",
     "text": [
      "100%|██████████| 99/99 [01:41<00:00,  1.02s/it]\n"
     ]
    }
   ],
   "source": [
    "sizes = np.arange(10, 1000, 10)\n",
    "n_samples = 10000\n",
    "pvalues = perform_tests(t_pvalue, sps.t(df=10), sizes, n_samples=n_samples)"
   ]
  },
  {
   "cell_type": "markdown",
   "metadata": {},
   "source": [
    "Бутстрепные значения pvalue образуют бернуллиевскую выборку, по которой строим доверительный интервал.\n",
    "Отклонения происходят на величину:"
   ]
  },
  {
   "cell_type": "code",
   "execution_count": 206,
   "metadata": {
    "collapsed": true
   },
   "outputs": [],
   "source": [
    "alpha = 0.05\n",
    "er = 2 * np.sqrt(alpha / n_samples)"
   ]
  },
  {
   "cell_type": "code",
   "execution_count": 207,
   "metadata": {},
   "outputs": [
    {
     "data": {
      "image/png": "[encoded data removed]",
      "text/plain": [
       "<Figure size 1080x288 with 1 Axes>"
      ]
     },
     "metadata": {},
     "output_type": "display_data"
    }
   ],
   "source": [
    "plt.figure(figsize=(15, 4))\n",
    "plt.plot(sizes, (pvalues < alpha).mean(axis=1), lw=2)\n",
    "plt.hlines(alpha, sizes.min(), sizes.max(), linestyle='--', color='black')\n",
    "plt.hlines(alpha - er, sizes.min(), sizes.max(), linestyle='--', color='red')\n",
    "plt.hlines(alpha + er, sizes.min(), sizes.max(), linestyle='--', color='red')\n",
    "plt.xlabel('Размер выборки'), plt.ylabel('Уровень значимости');"
   ]
  },
  {
   "cell_type": "markdown",
   "metadata": {},
   "source": [
    "Как видим, реальный уровень значимости данного критерия лежит около $\\alpha = 0.05$, а именно лежит в интервале $(\\alpha - 2 \\sqrt\\frac{\\alpha}{n \\; samples}, \\alpha + 2 \\sqrt\\frac{\\alpha}{n \\; samples})$"
   ]
  }
 ],
 "metadata": {
  "kernelspec": {
   "display_name": "Python 3",
   "language": "python",
   "name": "python3"
  },
  "language_info": {
   "codemirror_mode": {
    "name": "ipython",
    "version": 3
   },
   "file_extension": ".py",
   "mimetype": "text/x-python",
   "name": "python",
   "nbconvert_exporter": "python",
   "pygments_lexer": "ipython3",
   "version": "3.6.3"
  }
 },
 "nbformat": 4,
 "nbformat_minor": 2
}
